{
 "cells": [
  {
   "cell_type": "code",
   "execution_count": 1,
   "id": "30d41e4d",
   "metadata": {},
   "outputs": [],
   "source": [
    "#Import Python Libraries\n",
    "import numpy as np\n",
    "import scipy as sp\n",
    "import pandas as pd\n",
    "import matplotlib as mpl\n",
    "import seaborn as sns"
   ]
  },
  {
   "cell_type": "code",
   "execution_count": 2,
   "id": "b9bd6d03",
   "metadata": {},
   "outputs": [],
   "source": [
    "#Read csv file\n",
    "df = pd.read_csv(\"deaths-in-custody.csv\")"
   ]
  },
  {
   "cell_type": "code",
   "execution_count": 3,
   "id": "ed882c29",
   "metadata": {},
   "outputs": [
    {
     "data": {
      "text/html": [
       "<div>\n",
       "<style scoped>\n",
       "    .dataframe tbody tr th:only-of-type {\n",
       "        vertical-align: middle;\n",
       "    }\n",
       "\n",
       "    .dataframe tbody tr th {\n",
       "        vertical-align: top;\n",
       "    }\n",
       "\n",
       "    .dataframe thead th {\n",
       "        text-align: right;\n",
       "    }\n",
       "</style>\n",
       "<table border=\"1\" class=\"dataframe\">\n",
       "  <thead>\n",
       "    <tr style=\"text-align: right;\">\n",
       "      <th></th>\n",
       "      <th>record_key_number</th>\n",
       "      <th>reporting_agency</th>\n",
       "      <th>agency_number</th>\n",
       "      <th>agency_full_name</th>\n",
       "      <th>county</th>\n",
       "      <th>race</th>\n",
       "      <th>gender</th>\n",
       "      <th>age</th>\n",
       "      <th>custody_status</th>\n",
       "      <th>custody_offense</th>\n",
       "      <th>date_of_death_yyyy</th>\n",
       "      <th>date_of_death_mm</th>\n",
       "      <th>date_of_death_dd</th>\n",
       "      <th>custodial_responsibilty_at_time_of_death</th>\n",
       "      <th>location_where_cause_of_death_occurred</th>\n",
       "      <th>facility_of_death</th>\n",
       "      <th>manner_of_death</th>\n",
       "      <th>means_of_death</th>\n",
       "    </tr>\n",
       "  </thead>\n",
       "  <tbody>\n",
       "    <tr>\n",
       "      <th>0</th>\n",
       "      <td>2005001</td>\n",
       "      <td>State</td>\n",
       "      <td>27025C</td>\n",
       "      <td>Salinas Valley State Prison</td>\n",
       "      <td>Monterey</td>\n",
       "      <td>Other</td>\n",
       "      <td>Male</td>\n",
       "      <td>35</td>\n",
       "      <td>Sentenced</td>\n",
       "      <td>110</td>\n",
       "      <td>2005</td>\n",
       "      <td>1</td>\n",
       "      <td>3</td>\n",
       "      <td>CDC/CRC</td>\n",
       "      <td>Living</td>\n",
       "      <td>CDC/CRC</td>\n",
       "      <td>Suicide</td>\n",
       "      <td>Hanging,Strangulation</td>\n",
       "    </tr>\n",
       "    <tr>\n",
       "      <th>1</th>\n",
       "      <td>2005002</td>\n",
       "      <td>Police</td>\n",
       "      <td>390200</td>\n",
       "      <td>Lodi Police Department</td>\n",
       "      <td>San Joaquin</td>\n",
       "      <td>White</td>\n",
       "      <td>Male</td>\n",
       "      <td>67</td>\n",
       "      <td>Awaiting Booking</td>\n",
       "      <td>46</td>\n",
       "      <td>2005</td>\n",
       "      <td>1</td>\n",
       "      <td>5</td>\n",
       "      <td>City Jail</td>\n",
       "      <td>Living</td>\n",
       "      <td>City Jail</td>\n",
       "      <td>Natural</td>\n",
       "      <td>Not Applicable</td>\n",
       "    </tr>\n",
       "    <tr>\n",
       "      <th>2</th>\n",
       "      <td>2005003</td>\n",
       "      <td>State</td>\n",
       "      <td>48015C</td>\n",
       "      <td>California Medical Facility</td>\n",
       "      <td>Solano</td>\n",
       "      <td>White</td>\n",
       "      <td>Male</td>\n",
       "      <td>51</td>\n",
       "      <td>Sentenced</td>\n",
       "      <td>110</td>\n",
       "      <td>2005</td>\n",
       "      <td>1</td>\n",
       "      <td>6</td>\n",
       "      <td>CDC/CRC</td>\n",
       "      <td>Not Applicable</td>\n",
       "      <td>CDC/CRC</td>\n",
       "      <td>Natural</td>\n",
       "      <td>Not Applicable</td>\n",
       "    </tr>\n",
       "    <tr>\n",
       "      <th>3</th>\n",
       "      <td>2005004</td>\n",
       "      <td>State</td>\n",
       "      <td>15025C</td>\n",
       "      <td>Wasco State Prison</td>\n",
       "      <td>Kern</td>\n",
       "      <td>Hispanic</td>\n",
       "      <td>Male</td>\n",
       "      <td>50</td>\n",
       "      <td>Sentenced</td>\n",
       "      <td>501</td>\n",
       "      <td>2005</td>\n",
       "      <td>1</td>\n",
       "      <td>6</td>\n",
       "      <td>CDC/CRC</td>\n",
       "      <td>Not Applicable</td>\n",
       "      <td>Local Hospital</td>\n",
       "      <td>Natural</td>\n",
       "      <td>Not Applicable</td>\n",
       "    </tr>\n",
       "    <tr>\n",
       "      <th>4</th>\n",
       "      <td>2005005</td>\n",
       "      <td>State</td>\n",
       "      <td>34065C</td>\n",
       "      <td>California State Prison, Sacramento</td>\n",
       "      <td>Sacramento</td>\n",
       "      <td>White</td>\n",
       "      <td>Male</td>\n",
       "      <td>53</td>\n",
       "      <td>Sentenced</td>\n",
       "      <td>800</td>\n",
       "      <td>2005</td>\n",
       "      <td>1</td>\n",
       "      <td>9</td>\n",
       "      <td>CDC/CRC</td>\n",
       "      <td>Not Applicable</td>\n",
       "      <td>Local Hospital</td>\n",
       "      <td>Natural</td>\n",
       "      <td>Not Applicable</td>\n",
       "    </tr>\n",
       "  </tbody>\n",
       "</table>\n",
       "</div>"
      ],
      "text/plain": [
       "   record_key_number reporting_agency agency_number  \\\n",
       "0            2005001            State        27025C   \n",
       "1            2005002           Police        390200   \n",
       "2            2005003            State        48015C   \n",
       "3            2005004            State        15025C   \n",
       "4            2005005            State        34065C   \n",
       "\n",
       "                      agency_full_name       county      race gender age  \\\n",
       "0          Salinas Valley State Prison     Monterey     Other   Male  35   \n",
       "1               Lodi Police Department  San Joaquin     White   Male  67   \n",
       "2          California Medical Facility       Solano     White   Male  51   \n",
       "3                   Wasco State Prison         Kern  Hispanic   Male  50   \n",
       "4  California State Prison, Sacramento   Sacramento     White   Male  53   \n",
       "\n",
       "     custody_status  custody_offense  date_of_death_yyyy  date_of_death_mm  \\\n",
       "0         Sentenced              110                2005                 1   \n",
       "1  Awaiting Booking               46                2005                 1   \n",
       "2         Sentenced              110                2005                 1   \n",
       "3         Sentenced              501                2005                 1   \n",
       "4         Sentenced              800                2005                 1   \n",
       "\n",
       "   date_of_death_dd custodial_responsibilty_at_time_of_death  \\\n",
       "0                 3                                  CDC/CRC   \n",
       "1                 5                                City Jail   \n",
       "2                 6                                  CDC/CRC   \n",
       "3                 6                                  CDC/CRC   \n",
       "4                 9                                  CDC/CRC   \n",
       "\n",
       "  location_where_cause_of_death_occurred facility_of_death manner_of_death  \\\n",
       "0                                 Living           CDC/CRC         Suicide   \n",
       "1                                 Living         City Jail         Natural   \n",
       "2                         Not Applicable           CDC/CRC         Natural   \n",
       "3                         Not Applicable    Local Hospital         Natural   \n",
       "4                         Not Applicable    Local Hospital         Natural   \n",
       "\n",
       "          means_of_death  \n",
       "0  Hanging,Strangulation  \n",
       "1         Not Applicable  \n",
       "2         Not Applicable  \n",
       "3         Not Applicable  \n",
       "4         Not Applicable  "
      ]
     },
     "execution_count": 3,
     "metadata": {},
     "output_type": "execute_result"
    }
   ],
   "source": [
    "#List first 5 records\n",
    "df.head()"
   ]
  },
  {
   "cell_type": "code",
   "execution_count": 4,
   "id": "e6e9db2f",
   "metadata": {},
   "outputs": [
    {
     "name": "stderr",
     "output_type": "stream",
     "text": [
      "C:\\Users\\Marcus J. Anderson\\AppData\\Local\\Temp\\ipykernel_8328\\1333553289.py:2: VisibleDeprecationWarning: Creating an ndarray from ragged nested sequences (which is a list-or-tuple of lists-or-tuples-or ndarrays with different lengths or shapes) is deprecated. If you meant to do this, you must specify 'dtype=object' when creating the ndarray.\n",
      "  data = np.array([['','Race','MOD', 'CS'], ['Row1',1,2], ['Row2',3,4]])\n"
     ]
    },
    {
     "ename": "IndexError",
     "evalue": "too many indices for array: array is 1-dimensional, but 2 were indexed",
     "output_type": "error",
     "traceback": [
      "\u001b[1;31m---------------------------------------------------------------------------\u001b[0m",
      "\u001b[1;31mIndexError\u001b[0m                                Traceback (most recent call last)",
      "Input \u001b[1;32mIn [4]\u001b[0m, in \u001b[0;36m<cell line: 3>\u001b[1;34m()\u001b[0m\n\u001b[0;32m      1\u001b[0m \u001b[38;5;66;03m#Create and print data\u001b[39;00m\n\u001b[0;32m      2\u001b[0m data \u001b[38;5;241m=\u001b[39m np\u001b[38;5;241m.\u001b[39marray([[\u001b[38;5;124m'\u001b[39m\u001b[38;5;124m'\u001b[39m,\u001b[38;5;124m'\u001b[39m\u001b[38;5;124mRace\u001b[39m\u001b[38;5;124m'\u001b[39m,\u001b[38;5;124m'\u001b[39m\u001b[38;5;124mMOD\u001b[39m\u001b[38;5;124m'\u001b[39m, \u001b[38;5;124m'\u001b[39m\u001b[38;5;124mCS\u001b[39m\u001b[38;5;124m'\u001b[39m], [\u001b[38;5;124m'\u001b[39m\u001b[38;5;124mRow1\u001b[39m\u001b[38;5;124m'\u001b[39m,\u001b[38;5;241m1\u001b[39m,\u001b[38;5;241m2\u001b[39m], [\u001b[38;5;124m'\u001b[39m\u001b[38;5;124mRow2\u001b[39m\u001b[38;5;124m'\u001b[39m,\u001b[38;5;241m3\u001b[39m,\u001b[38;5;241m4\u001b[39m]])\n\u001b[1;32m----> 3\u001b[0m \u001b[38;5;28mprint\u001b[39m(pd\u001b[38;5;241m.\u001b[39mDataFrame(data\u001b[38;5;241m=\u001b[39m\u001b[43mdata\u001b[49m\u001b[43m[\u001b[49m\u001b[38;5;241;43m1\u001b[39;49m\u001b[43m:\u001b[49m\u001b[43m,\u001b[49m\u001b[38;5;241;43m1\u001b[39;49m\u001b[43m:\u001b[49m\u001b[43m]\u001b[49m,index\u001b[38;5;241m=\u001b[39mdata[\u001b[38;5;241m1\u001b[39m:,\u001b[38;5;241m0\u001b[39m],columns\u001b[38;5;241m=\u001b[39mdata[\u001b[38;5;241m0\u001b[39m,\u001b[38;5;241m1\u001b[39m:]))\n",
      "\u001b[1;31mIndexError\u001b[0m: too many indices for array: array is 1-dimensional, but 2 were indexed"
     ]
    }
   ],
   "source": [
    "#Create and print data\n",
    "data = np.array([['','Race','MOD', 'CS'], ['Row1',1,2], ['Row2',3,4]])\n",
    "print(pd.DataFrame(data=data[1:,1:],index=data[1:,0],columns=data[0,1:]))"
   ]
  },
  {
   "cell_type": "code",
   "execution_count": 5,
   "id": "4ad1ef7a",
   "metadata": {},
   "outputs": [
    {
     "name": "stdout",
     "output_type": "stream",
     "text": [
      "     Col1 Col2\n",
      "Row1    1    2\n",
      "Row2    3    4\n"
     ]
    }
   ],
   "source": [
    "#Create and print data\n",
    "data = np.array([['','Col1','Col2'], ['Row1',1,2], ['Row2',3,4]])\n",
    "print(pd.DataFrame(data=data[1:,1:],index=data[1:,0],columns=data[0,1:]))"
   ]
  },
  {
   "cell_type": "code",
   "execution_count": 6,
   "id": "6e1d314e",
   "metadata": {},
   "outputs": [
    {
     "ename": "NameError",
     "evalue": "name 'columns' is not defined",
     "output_type": "error",
     "traceback": [
      "\u001b[1;31m---------------------------------------------------------------------------\u001b[0m",
      "\u001b[1;31mNameError\u001b[0m                                 Traceback (most recent call last)",
      "Input \u001b[1;32mIn [6]\u001b[0m, in \u001b[0;36m<cell line: 1>\u001b[1;34m()\u001b[0m\n\u001b[1;32m----> 1\u001b[0m \u001b[43mcolumns\u001b[49m\n",
      "\u001b[1;31mNameError\u001b[0m: name 'columns' is not defined"
     ]
    }
   ],
   "source": [
    "columns"
   ]
  },
  {
   "cell_type": "code",
   "execution_count": 7,
   "id": "d23d5b32",
   "metadata": {},
   "outputs": [
    {
     "data": {
      "text/plain": [
       "Index(['record_key_number', 'reporting_agency', 'agency_number',\n",
       "       'agency_full_name', 'county', 'race', 'gender', 'age', 'custody_status',\n",
       "       'custody_offense', 'date_of_death_yyyy', 'date_of_death_mm',\n",
       "       'date_of_death_dd', 'custodial_responsibilty_at_time_of_death',\n",
       "       'location_where_cause_of_death_occurred', 'facility_of_death',\n",
       "       'manner_of_death', 'means_of_death'],\n",
       "      dtype='object')"
      ]
     },
     "execution_count": 7,
     "metadata": {},
     "output_type": "execute_result"
    }
   ],
   "source": [
    "df.columns"
   ]
  },
  {
   "cell_type": "code",
   "execution_count": 8,
   "id": "18167b9a",
   "metadata": {},
   "outputs": [
    {
     "ename": "SyntaxError",
     "evalue": "Missing parentheses in call to 'print'. Did you mean print(...)? (1194923520.py, line 1)",
     "output_type": "error",
     "traceback": [
      "\u001b[1;36m  Input \u001b[1;32mIn [8]\u001b[1;36m\u001b[0m\n\u001b[1;33m    print df['race'].value_counts()\u001b[0m\n\u001b[1;37m    ^\u001b[0m\n\u001b[1;31mSyntaxError\u001b[0m\u001b[1;31m:\u001b[0m Missing parentheses in call to 'print'. Did you mean print(...)?\n"
     ]
    }
   ],
   "source": [
    "print df['race'].value_counts()"
   ]
  },
  {
   "cell_type": "code",
   "execution_count": 19,
   "id": "cc697eaa",
   "metadata": {},
   "outputs": [
    {
     "name": "stdout",
     "output_type": "stream",
     "text": [
      "race             manner_of_death                             custody_status           \n",
      "American Indian  Accidental                                  Booked - Awaiting Trial        2\n",
      "                                                             Sentenced                      4\n",
      "                 Homicide Justified (Law Enforcement Staff)  Process of Arrest              6\n",
      "                 Homicide Willful (Other Inmate)             Sentenced                      3\n",
      "                 Natural                                     Booked - Awaiting Trial        3\n",
      "                                                                                         ... \n",
      "White            Suicide                                     Booked - Awaiting Trial      151\n",
      "                                                             Booked - No Charges Filed     27\n",
      "                                                             Other                          7\n",
      "                                                             Process of Arrest             26\n",
      "                                                             Sentenced                    199\n",
      "Length: 268, dtype: int64\n"
     ]
    }
   ],
   "source": [
    "counts = df.groupby(['race', 'manner_of_death', 'custody_status']).size()\n",
    "print (counts)"
   ]
  },
  {
   "cell_type": "code",
   "execution_count": 1,
   "id": "2447fea1",
   "metadata": {},
   "outputs": [
    {
     "ename": "NameError",
     "evalue": "name 'df' is not defined",
     "output_type": "error",
     "traceback": [
      "\u001b[1;31m---------------------------------------------------------------------------\u001b[0m",
      "\u001b[1;31mNameError\u001b[0m                                 Traceback (most recent call last)",
      "Input \u001b[1;32mIn [1]\u001b[0m, in \u001b[0;36m<cell line: 1>\u001b[1;34m()\u001b[0m\n\u001b[1;32m----> 1\u001b[0m counts \u001b[38;5;241m=\u001b[39m \u001b[43mdf\u001b[49m\u001b[38;5;241m.\u001b[39mgroupby([\u001b[38;5;124m'\u001b[39m\u001b[38;5;124mrace\u001b[39m\u001b[38;5;124m'\u001b[39m, \u001b[38;5;124m'\u001b[39m\u001b[38;5;124mmanner_of_death\u001b[39m\u001b[38;5;124m'\u001b[39m])\u001b[38;5;241m.\u001b[39msize()\n\u001b[0;32m      2\u001b[0m \u001b[38;5;28mprint\u001b[39m (counts)\n",
      "\u001b[1;31mNameError\u001b[0m: name 'df' is not defined"
     ]
    }
   ],
   "source": [
    "counts = df.groupby(['race', 'manner_of_death']).size()\n",
    "print (counts)"
   ]
  },
  {
   "cell_type": "code",
   "execution_count": 2,
   "id": "b193de49",
   "metadata": {},
   "outputs": [
    {
     "ename": "NameError",
     "evalue": "name 'pd' is not defined",
     "output_type": "error",
     "traceback": [
      "\u001b[1;31m---------------------------------------------------------------------------\u001b[0m",
      "\u001b[1;31mNameError\u001b[0m                                 Traceback (most recent call last)",
      "Input \u001b[1;32mIn [2]\u001b[0m, in \u001b[0;36m<cell line: 2>\u001b[1;34m()\u001b[0m\n\u001b[0;32m      1\u001b[0m \u001b[38;5;66;03m#Read csv file\u001b[39;00m\n\u001b[1;32m----> 2\u001b[0m df \u001b[38;5;241m=\u001b[39m \u001b[43mpd\u001b[49m\u001b[38;5;241m.\u001b[39mread_csv(\u001b[38;5;124m\"\u001b[39m\u001b[38;5;124mdeaths-in-custody.csv\u001b[39m\u001b[38;5;124m\"\u001b[39m)\n",
      "\u001b[1;31mNameError\u001b[0m: name 'pd' is not defined"
     ]
    }
   ],
   "source": [
    "#Read csv file\n",
    "df = pd.read_csv(\"deaths-in-custody.csv\")"
   ]
  },
  {
   "cell_type": "code",
   "execution_count": 1,
   "id": "b434c039",
   "metadata": {},
   "outputs": [],
   "source": [
    "#Import Python Libraries\n",
    "import numpy as np\n",
    "import scipy as sp\n",
    "import pandas as pd\n",
    "import matplotlib as mpl\n",
    "import seaborn as sns"
   ]
  },
  {
   "cell_type": "code",
   "execution_count": 2,
   "id": "9f6d5568",
   "metadata": {},
   "outputs": [],
   "source": [
    "#Read csv file\n",
    "df = pd.read_csv(\"deaths-in-custody.csv\")"
   ]
  },
  {
   "cell_type": "code",
   "execution_count": 3,
   "id": "a8ada3c7",
   "metadata": {},
   "outputs": [
    {
     "name": "stdout",
     "output_type": "stream",
     "text": [
      "race             manner_of_death                           \n",
      "American Indian  Accidental                                       6\n",
      "                 Homicide Justified (Law Enforcement Staff)       6\n",
      "                 Homicide Willful (Other Inmate)                  3\n",
      "                 Natural                                         50\n",
      "                 Pending Investigation                            3\n",
      "                                                               ... \n",
      "White            Homicide Willful (Other Inmate)                 97\n",
      "                 Natural                                       2142\n",
      "                 Other                                           10\n",
      "                 Pending Investigation                           83\n",
      "                 Suicide                                        419\n",
      "Length: 96, dtype: int64\n"
     ]
    }
   ],
   "source": [
    "counts = df.groupby(['race', 'manner_of_death']).size()\n",
    "print (counts)"
   ]
  },
  {
   "cell_type": "code",
   "execution_count": 4,
   "id": "004b37d6",
   "metadata": {},
   "outputs": [],
   "source": [
    "counts.to_csv(\"test.csv\", encoding='utf-8', index=False)"
   ]
  },
  {
   "cell_type": "code",
   "execution_count": 6,
   "id": "6a6ddfb7",
   "metadata": {},
   "outputs": [
    {
     "name": "stdout",
     "output_type": "stream",
     "text": [
      "<pandas.core.groupby.generic.DataFrameGroupBy object at 0x0000024A9FF17D60>\n"
     ]
    }
   ],
   "source": [
    "raceModGroup = df.groupby(['race', 'manner_of_death'])\n",
    "print (raceModGroup)"
   ]
  },
  {
   "cell_type": "code",
   "execution_count": 7,
   "id": "a1121b86",
   "metadata": {},
   "outputs": [
    {
     "data": {
      "text/html": [
       "<div>\n",
       "<style scoped>\n",
       "    .dataframe tbody tr th:only-of-type {\n",
       "        vertical-align: middle;\n",
       "    }\n",
       "\n",
       "    .dataframe tbody tr th {\n",
       "        vertical-align: top;\n",
       "    }\n",
       "\n",
       "    .dataframe thead th {\n",
       "        text-align: right;\n",
       "    }\n",
       "</style>\n",
       "<table border=\"1\" class=\"dataframe\">\n",
       "  <thead>\n",
       "    <tr style=\"text-align: right;\">\n",
       "      <th></th>\n",
       "      <th>record_key_number</th>\n",
       "      <th>reporting_agency</th>\n",
       "      <th>agency_number</th>\n",
       "      <th>agency_full_name</th>\n",
       "      <th>county</th>\n",
       "      <th>race</th>\n",
       "      <th>gender</th>\n",
       "      <th>age</th>\n",
       "      <th>custody_status</th>\n",
       "      <th>custody_offense</th>\n",
       "      <th>date_of_death_yyyy</th>\n",
       "      <th>date_of_death_mm</th>\n",
       "      <th>date_of_death_dd</th>\n",
       "      <th>custodial_responsibilty_at_time_of_death</th>\n",
       "      <th>location_where_cause_of_death_occurred</th>\n",
       "      <th>facility_of_death</th>\n",
       "      <th>manner_of_death</th>\n",
       "      <th>means_of_death</th>\n",
       "    </tr>\n",
       "  </thead>\n",
       "  <tbody>\n",
       "    <tr>\n",
       "      <th>0</th>\n",
       "      <td>2005001</td>\n",
       "      <td>State</td>\n",
       "      <td>27025C</td>\n",
       "      <td>Salinas Valley State Prison</td>\n",
       "      <td>Monterey</td>\n",
       "      <td>Other</td>\n",
       "      <td>Male</td>\n",
       "      <td>35</td>\n",
       "      <td>Sentenced</td>\n",
       "      <td>110</td>\n",
       "      <td>2005</td>\n",
       "      <td>1</td>\n",
       "      <td>3</td>\n",
       "      <td>CDC/CRC</td>\n",
       "      <td>Living</td>\n",
       "      <td>CDC/CRC</td>\n",
       "      <td>Suicide</td>\n",
       "      <td>Hanging,Strangulation</td>\n",
       "    </tr>\n",
       "    <tr>\n",
       "      <th>1</th>\n",
       "      <td>2005002</td>\n",
       "      <td>Police</td>\n",
       "      <td>390200</td>\n",
       "      <td>Lodi Police Department</td>\n",
       "      <td>San Joaquin</td>\n",
       "      <td>White</td>\n",
       "      <td>Male</td>\n",
       "      <td>67</td>\n",
       "      <td>Awaiting Booking</td>\n",
       "      <td>46</td>\n",
       "      <td>2005</td>\n",
       "      <td>1</td>\n",
       "      <td>5</td>\n",
       "      <td>City Jail</td>\n",
       "      <td>Living</td>\n",
       "      <td>City Jail</td>\n",
       "      <td>Natural</td>\n",
       "      <td>Not Applicable</td>\n",
       "    </tr>\n",
       "    <tr>\n",
       "      <th>3</th>\n",
       "      <td>2005004</td>\n",
       "      <td>State</td>\n",
       "      <td>15025C</td>\n",
       "      <td>Wasco State Prison</td>\n",
       "      <td>Kern</td>\n",
       "      <td>Hispanic</td>\n",
       "      <td>Male</td>\n",
       "      <td>50</td>\n",
       "      <td>Sentenced</td>\n",
       "      <td>501</td>\n",
       "      <td>2005</td>\n",
       "      <td>1</td>\n",
       "      <td>6</td>\n",
       "      <td>CDC/CRC</td>\n",
       "      <td>Not Applicable</td>\n",
       "      <td>Local Hospital</td>\n",
       "      <td>Natural</td>\n",
       "      <td>Not Applicable</td>\n",
       "    </tr>\n",
       "    <tr>\n",
       "      <th>6</th>\n",
       "      <td>2005007</td>\n",
       "      <td>State</td>\n",
       "      <td>36015C</td>\n",
       "      <td>California Institution for Men</td>\n",
       "      <td>San Bernardino</td>\n",
       "      <td>Black</td>\n",
       "      <td>Male</td>\n",
       "      <td>68</td>\n",
       "      <td>Sentenced</td>\n",
       "      <td>801</td>\n",
       "      <td>2005</td>\n",
       "      <td>1</td>\n",
       "      <td>9</td>\n",
       "      <td>CDC/CRC</td>\n",
       "      <td>Not Applicable</td>\n",
       "      <td>Local Hospital</td>\n",
       "      <td>Natural</td>\n",
       "      <td>Not Applicable</td>\n",
       "    </tr>\n",
       "    <tr>\n",
       "      <th>8</th>\n",
       "      <td>2005009</td>\n",
       "      <td>State</td>\n",
       "      <td>18035C</td>\n",
       "      <td>High Desert State Prison</td>\n",
       "      <td>Lassen</td>\n",
       "      <td>Hispanic</td>\n",
       "      <td>Male</td>\n",
       "      <td>38</td>\n",
       "      <td>Sentenced</td>\n",
       "      <td>865</td>\n",
       "      <td>2005</td>\n",
       "      <td>1</td>\n",
       "      <td>11</td>\n",
       "      <td>CDC/CRC</td>\n",
       "      <td>Living</td>\n",
       "      <td>CDC/CRC</td>\n",
       "      <td>Suicide</td>\n",
       "      <td>Hanging,Strangulation</td>\n",
       "    </tr>\n",
       "    <tr>\n",
       "      <th>...</th>\n",
       "      <td>...</td>\n",
       "      <td>...</td>\n",
       "      <td>...</td>\n",
       "      <td>...</td>\n",
       "      <td>...</td>\n",
       "      <td>...</td>\n",
       "      <td>...</td>\n",
       "      <td>...</td>\n",
       "      <td>...</td>\n",
       "      <td>...</td>\n",
       "      <td>...</td>\n",
       "      <td>...</td>\n",
       "      <td>...</td>\n",
       "      <td>...</td>\n",
       "      <td>...</td>\n",
       "      <td>...</td>\n",
       "      <td>...</td>\n",
       "      <td>...</td>\n",
       "    </tr>\n",
       "    <tr>\n",
       "      <th>7741</th>\n",
       "      <td>2016060</td>\n",
       "      <td>Sheriff</td>\n",
       "      <td>390000</td>\n",
       "      <td>San Joaquin County Sheriff's Department</td>\n",
       "      <td>San Joaquin</td>\n",
       "      <td>Asian Indian</td>\n",
       "      <td>Male</td>\n",
       "      <td>57</td>\n",
       "      <td>Booked - Awaiting Trial</td>\n",
       "      <td>397</td>\n",
       "      <td>2016</td>\n",
       "      <td>2</td>\n",
       "      <td>10</td>\n",
       "      <td>County Jail</td>\n",
       "      <td>Living</td>\n",
       "      <td>Local Hospital</td>\n",
       "      <td>Pending Investigation</td>\n",
       "      <td>Pending Investigation</td>\n",
       "    </tr>\n",
       "    <tr>\n",
       "      <th>7745</th>\n",
       "      <td>2016064</td>\n",
       "      <td>State</td>\n",
       "      <td>36015M</td>\n",
       "      <td>Patton State Hospital</td>\n",
       "      <td>San Bernardino</td>\n",
       "      <td>Chinese</td>\n",
       "      <td>Male</td>\n",
       "      <td>32</td>\n",
       "      <td>Sentenced</td>\n",
       "      <td>400</td>\n",
       "      <td>2016</td>\n",
       "      <td>2</td>\n",
       "      <td>14</td>\n",
       "      <td>State Hospital</td>\n",
       "      <td>Living</td>\n",
       "      <td>Local Hospital</td>\n",
       "      <td>Pending Investigation</td>\n",
       "      <td>Pending Investigation</td>\n",
       "    </tr>\n",
       "    <tr>\n",
       "      <th>7970</th>\n",
       "      <td>2016289</td>\n",
       "      <td>Police</td>\n",
       "      <td>194200</td>\n",
       "      <td>Los Angeles Police Department</td>\n",
       "      <td>Los Angeles</td>\n",
       "      <td>Cambodian</td>\n",
       "      <td>Male</td>\n",
       "      <td>27</td>\n",
       "      <td>Process of Arrest</td>\n",
       "      <td>300</td>\n",
       "      <td>2016</td>\n",
       "      <td>6</td>\n",
       "      <td>28</td>\n",
       "      <td>Process of Arrest</td>\n",
       "      <td>Crime/Arrest Scene</td>\n",
       "      <td>Crime/Arrest Scene</td>\n",
       "      <td>Pending Investigation</td>\n",
       "      <td>Pending Investigation</td>\n",
       "    </tr>\n",
       "    <tr>\n",
       "      <th>8313</th>\n",
       "      <td>2016632</td>\n",
       "      <td>State</td>\n",
       "      <td>34065C</td>\n",
       "      <td>California State Prison, Sacramento</td>\n",
       "      <td>Sacramento</td>\n",
       "      <td>Japanese</td>\n",
       "      <td>Male</td>\n",
       "      <td>60</td>\n",
       "      <td>Sentenced</td>\n",
       "      <td>100</td>\n",
       "      <td>2016</td>\n",
       "      <td>12</td>\n",
       "      <td>30</td>\n",
       "      <td>CDC/CRC</td>\n",
       "      <td>NaN</td>\n",
       "      <td>CDC/CRC</td>\n",
       "      <td>Pending Investigation</td>\n",
       "      <td>Pending Investigation</td>\n",
       "    </tr>\n",
       "    <tr>\n",
       "      <th>8326</th>\n",
       "      <td>2016645</td>\n",
       "      <td>Police</td>\n",
       "      <td>010500</td>\n",
       "      <td>Fremont Police Department</td>\n",
       "      <td>Alameda</td>\n",
       "      <td>Pacific Islander</td>\n",
       "      <td>Male</td>\n",
       "      <td>24</td>\n",
       "      <td>Other</td>\n",
       "      <td>400</td>\n",
       "      <td>2016</td>\n",
       "      <td>5</td>\n",
       "      <td>18</td>\n",
       "      <td>Other</td>\n",
       "      <td>Crime/Arrest Scene</td>\n",
       "      <td>Local Hospital</td>\n",
       "      <td>Other</td>\n",
       "      <td>Other</td>\n",
       "    </tr>\n",
       "  </tbody>\n",
       "</table>\n",
       "<p>96 rows × 18 columns</p>\n",
       "</div>"
      ],
      "text/plain": [
       "      record_key_number reporting_agency agency_number  \\\n",
       "0               2005001            State        27025C   \n",
       "1               2005002           Police        390200   \n",
       "3               2005004            State        15025C   \n",
       "6               2005007            State        36015C   \n",
       "8               2005009            State        18035C   \n",
       "...                 ...              ...           ...   \n",
       "7741            2016060          Sheriff        390000   \n",
       "7745            2016064            State        36015M   \n",
       "7970            2016289           Police        194200   \n",
       "8313            2016632            State        34065C   \n",
       "8326            2016645           Police        010500   \n",
       "\n",
       "                             agency_full_name          county  \\\n",
       "0                 Salinas Valley State Prison        Monterey   \n",
       "1                      Lodi Police Department     San Joaquin   \n",
       "3                          Wasco State Prison            Kern   \n",
       "6              California Institution for Men  San Bernardino   \n",
       "8                    High Desert State Prison          Lassen   \n",
       "...                                       ...             ...   \n",
       "7741  San Joaquin County Sheriff's Department     San Joaquin   \n",
       "7745                    Patton State Hospital  San Bernardino   \n",
       "7970            Los Angeles Police Department     Los Angeles   \n",
       "8313      California State Prison, Sacramento      Sacramento   \n",
       "8326                Fremont Police Department         Alameda   \n",
       "\n",
       "                  race gender age           custody_status  custody_offense  \\\n",
       "0                Other   Male  35                Sentenced              110   \n",
       "1                White   Male  67         Awaiting Booking               46   \n",
       "3             Hispanic   Male  50                Sentenced              501   \n",
       "6                Black   Male  68                Sentenced              801   \n",
       "8             Hispanic   Male  38                Sentenced              865   \n",
       "...                ...    ...  ..                      ...              ...   \n",
       "7741      Asian Indian   Male  57  Booked - Awaiting Trial              397   \n",
       "7745           Chinese   Male  32                Sentenced              400   \n",
       "7970         Cambodian   Male  27        Process of Arrest              300   \n",
       "8313          Japanese   Male  60                Sentenced              100   \n",
       "8326  Pacific Islander   Male  24                    Other              400   \n",
       "\n",
       "      date_of_death_yyyy  date_of_death_mm  date_of_death_dd  \\\n",
       "0                   2005                 1                 3   \n",
       "1                   2005                 1                 5   \n",
       "3                   2005                 1                 6   \n",
       "6                   2005                 1                 9   \n",
       "8                   2005                 1                11   \n",
       "...                  ...               ...               ...   \n",
       "7741                2016                 2                10   \n",
       "7745                2016                 2                14   \n",
       "7970                2016                 6                28   \n",
       "8313                2016                12                30   \n",
       "8326                2016                 5                18   \n",
       "\n",
       "     custodial_responsibilty_at_time_of_death  \\\n",
       "0                                     CDC/CRC   \n",
       "1                                   City Jail   \n",
       "3                                     CDC/CRC   \n",
       "6                                     CDC/CRC   \n",
       "8                                     CDC/CRC   \n",
       "...                                       ...   \n",
       "7741                              County Jail   \n",
       "7745                           State Hospital   \n",
       "7970                        Process of Arrest   \n",
       "8313                                  CDC/CRC   \n",
       "8326                                    Other   \n",
       "\n",
       "     location_where_cause_of_death_occurred   facility_of_death  \\\n",
       "0                                    Living             CDC/CRC   \n",
       "1                                    Living           City Jail   \n",
       "3                            Not Applicable      Local Hospital   \n",
       "6                            Not Applicable      Local Hospital   \n",
       "8                                    Living             CDC/CRC   \n",
       "...                                     ...                 ...   \n",
       "7741                                 Living      Local Hospital   \n",
       "7745                                 Living      Local Hospital   \n",
       "7970                     Crime/Arrest Scene  Crime/Arrest Scene   \n",
       "8313                                    NaN             CDC/CRC   \n",
       "8326                     Crime/Arrest Scene      Local Hospital   \n",
       "\n",
       "            manner_of_death         means_of_death  \n",
       "0                   Suicide  Hanging,Strangulation  \n",
       "1                   Natural         Not Applicable  \n",
       "3                   Natural         Not Applicable  \n",
       "6                   Natural         Not Applicable  \n",
       "8                   Suicide  Hanging,Strangulation  \n",
       "...                     ...                    ...  \n",
       "7741  Pending Investigation  Pending Investigation  \n",
       "7745  Pending Investigation  Pending Investigation  \n",
       "7970  Pending Investigation  Pending Investigation  \n",
       "8313  Pending Investigation  Pending Investigation  \n",
       "8326                  Other                  Other  \n",
       "\n",
       "[96 rows x 18 columns]"
      ]
     },
     "execution_count": 7,
     "metadata": {},
     "output_type": "execute_result"
    }
   ],
   "source": [
    "df.groupby(['race', 'manner_of_death']).head(1)"
   ]
  },
  {
   "cell_type": "code",
   "execution_count": 9,
   "id": "e2b27714",
   "metadata": {},
   "outputs": [],
   "source": [
    "df.groupby(['race', 'manner_of_death']).size().to_csv('test.csv')"
   ]
  },
  {
   "cell_type": "code",
   "execution_count": 10,
   "id": "b06453bb",
   "metadata": {},
   "outputs": [],
   "source": [
    "df.groupby(['race', 'custody_status']).size().to_csv('race-custody.csv')"
   ]
  },
  {
   "cell_type": "code",
   "execution_count": 11,
   "id": "b244ba6e",
   "metadata": {},
   "outputs": [],
   "source": [
    "df.groupby(['gender', 'manner_of_death']).size().to_csv('gender-mod.csv')"
   ]
  },
  {
   "cell_type": "code",
   "execution_count": 12,
   "id": "59df028d",
   "metadata": {},
   "outputs": [],
   "source": [
    "df.groupby(['gender', 'custody_status']).size().to_csv('gender-custody.csv')"
   ]
  },
  {
   "cell_type": "code",
   "execution_count": 13,
   "id": "c2e5464e",
   "metadata": {},
   "outputs": [],
   "source": [
    "df.groupby(['age', 'manner_of_death']).size().to_csv('age-mod.csv')"
   ]
  },
  {
   "cell_type": "code",
   "execution_count": 14,
   "id": "1c044a7e",
   "metadata": {},
   "outputs": [],
   "source": [
    "df.groupby(['age', 'custody_status']).size().to_csv('age-custody.csv')"
   ]
  },
  {
   "cell_type": "code",
   "execution_count": 1,
   "id": "38b23de0",
   "metadata": {},
   "outputs": [],
   "source": [
    "#Import Python Libraries\n",
    "import numpy as np\n",
    "import scipy as sp\n",
    "import pandas as pd\n",
    "import matplotlib as mpl\n",
    "import seaborn as sns"
   ]
  },
  {
   "cell_type": "code",
   "execution_count": 2,
   "id": "1ca78950",
   "metadata": {},
   "outputs": [],
   "source": [
    "#Read csv file\n",
    "df = pd.read_csv(\"csv/deaths-in-custody.csv\")"
   ]
  },
  {
   "cell_type": "code",
   "execution_count": 3,
   "id": "2908587c",
   "metadata": {},
   "outputs": [
    {
     "data": {
      "text/html": [
       "<div>\n",
       "<style scoped>\n",
       "    .dataframe tbody tr th:only-of-type {\n",
       "        vertical-align: middle;\n",
       "    }\n",
       "\n",
       "    .dataframe tbody tr th {\n",
       "        vertical-align: top;\n",
       "    }\n",
       "\n",
       "    .dataframe thead th {\n",
       "        text-align: right;\n",
       "    }\n",
       "</style>\n",
       "<table border=\"1\" class=\"dataframe\">\n",
       "  <thead>\n",
       "    <tr style=\"text-align: right;\">\n",
       "      <th></th>\n",
       "      <th>record_key_number</th>\n",
       "      <th>reporting_agency</th>\n",
       "      <th>agency_number</th>\n",
       "      <th>agency_full_name</th>\n",
       "      <th>county</th>\n",
       "      <th>race</th>\n",
       "      <th>gender</th>\n",
       "      <th>age</th>\n",
       "      <th>custody_status</th>\n",
       "      <th>custody_offense</th>\n",
       "      <th>date_of_death_yyyy</th>\n",
       "      <th>date_of_death_mm</th>\n",
       "      <th>date_of_death_dd</th>\n",
       "      <th>custodial_responsibilty_at_time_of_death</th>\n",
       "      <th>location_where_cause_of_death_occurred</th>\n",
       "      <th>facility_of_death</th>\n",
       "      <th>manner_of_death</th>\n",
       "      <th>means_of_death</th>\n",
       "    </tr>\n",
       "  </thead>\n",
       "  <tbody>\n",
       "    <tr>\n",
       "      <th>0</th>\n",
       "      <td>2005001</td>\n",
       "      <td>State</td>\n",
       "      <td>27025C</td>\n",
       "      <td>Salinas Valley State Prison</td>\n",
       "      <td>Monterey</td>\n",
       "      <td>Other</td>\n",
       "      <td>Male</td>\n",
       "      <td>35</td>\n",
       "      <td>Sentenced</td>\n",
       "      <td>110</td>\n",
       "      <td>2005</td>\n",
       "      <td>1</td>\n",
       "      <td>3</td>\n",
       "      <td>CDC/CRC</td>\n",
       "      <td>Living</td>\n",
       "      <td>CDC/CRC</td>\n",
       "      <td>Suicide</td>\n",
       "      <td>Hanging,Strangulation</td>\n",
       "    </tr>\n",
       "    <tr>\n",
       "      <th>1</th>\n",
       "      <td>2005002</td>\n",
       "      <td>Police</td>\n",
       "      <td>390200</td>\n",
       "      <td>Lodi Police Department</td>\n",
       "      <td>San Joaquin</td>\n",
       "      <td>White</td>\n",
       "      <td>Male</td>\n",
       "      <td>67</td>\n",
       "      <td>Awaiting Booking</td>\n",
       "      <td>46</td>\n",
       "      <td>2005</td>\n",
       "      <td>1</td>\n",
       "      <td>5</td>\n",
       "      <td>City Jail</td>\n",
       "      <td>Living</td>\n",
       "      <td>City Jail</td>\n",
       "      <td>Natural</td>\n",
       "      <td>Not Applicable</td>\n",
       "    </tr>\n",
       "    <tr>\n",
       "      <th>2</th>\n",
       "      <td>2005003</td>\n",
       "      <td>State</td>\n",
       "      <td>48015C</td>\n",
       "      <td>California Medical Facility</td>\n",
       "      <td>Solano</td>\n",
       "      <td>White</td>\n",
       "      <td>Male</td>\n",
       "      <td>51</td>\n",
       "      <td>Sentenced</td>\n",
       "      <td>110</td>\n",
       "      <td>2005</td>\n",
       "      <td>1</td>\n",
       "      <td>6</td>\n",
       "      <td>CDC/CRC</td>\n",
       "      <td>Not Applicable</td>\n",
       "      <td>CDC/CRC</td>\n",
       "      <td>Natural</td>\n",
       "      <td>Not Applicable</td>\n",
       "    </tr>\n",
       "    <tr>\n",
       "      <th>3</th>\n",
       "      <td>2005004</td>\n",
       "      <td>State</td>\n",
       "      <td>15025C</td>\n",
       "      <td>Wasco State Prison</td>\n",
       "      <td>Kern</td>\n",
       "      <td>Hispanic</td>\n",
       "      <td>Male</td>\n",
       "      <td>50</td>\n",
       "      <td>Sentenced</td>\n",
       "      <td>501</td>\n",
       "      <td>2005</td>\n",
       "      <td>1</td>\n",
       "      <td>6</td>\n",
       "      <td>CDC/CRC</td>\n",
       "      <td>Not Applicable</td>\n",
       "      <td>Local Hospital</td>\n",
       "      <td>Natural</td>\n",
       "      <td>Not Applicable</td>\n",
       "    </tr>\n",
       "    <tr>\n",
       "      <th>4</th>\n",
       "      <td>2005005</td>\n",
       "      <td>State</td>\n",
       "      <td>34065C</td>\n",
       "      <td>California State Prison, Sacramento</td>\n",
       "      <td>Sacramento</td>\n",
       "      <td>White</td>\n",
       "      <td>Male</td>\n",
       "      <td>53</td>\n",
       "      <td>Sentenced</td>\n",
       "      <td>800</td>\n",
       "      <td>2005</td>\n",
       "      <td>1</td>\n",
       "      <td>9</td>\n",
       "      <td>CDC/CRC</td>\n",
       "      <td>Not Applicable</td>\n",
       "      <td>Local Hospital</td>\n",
       "      <td>Natural</td>\n",
       "      <td>Not Applicable</td>\n",
       "    </tr>\n",
       "  </tbody>\n",
       "</table>\n",
       "</div>"
      ],
      "text/plain": [
       "   record_key_number reporting_agency agency_number  \\\n",
       "0            2005001            State        27025C   \n",
       "1            2005002           Police        390200   \n",
       "2            2005003            State        48015C   \n",
       "3            2005004            State        15025C   \n",
       "4            2005005            State        34065C   \n",
       "\n",
       "                      agency_full_name       county      race gender age  \\\n",
       "0          Salinas Valley State Prison     Monterey     Other   Male  35   \n",
       "1               Lodi Police Department  San Joaquin     White   Male  67   \n",
       "2          California Medical Facility       Solano     White   Male  51   \n",
       "3                   Wasco State Prison         Kern  Hispanic   Male  50   \n",
       "4  California State Prison, Sacramento   Sacramento     White   Male  53   \n",
       "\n",
       "     custody_status  custody_offense  date_of_death_yyyy  date_of_death_mm  \\\n",
       "0         Sentenced              110                2005                 1   \n",
       "1  Awaiting Booking               46                2005                 1   \n",
       "2         Sentenced              110                2005                 1   \n",
       "3         Sentenced              501                2005                 1   \n",
       "4         Sentenced              800                2005                 1   \n",
       "\n",
       "   date_of_death_dd custodial_responsibilty_at_time_of_death  \\\n",
       "0                 3                                  CDC/CRC   \n",
       "1                 5                                City Jail   \n",
       "2                 6                                  CDC/CRC   \n",
       "3                 6                                  CDC/CRC   \n",
       "4                 9                                  CDC/CRC   \n",
       "\n",
       "  location_where_cause_of_death_occurred facility_of_death manner_of_death  \\\n",
       "0                                 Living           CDC/CRC         Suicide   \n",
       "1                                 Living         City Jail         Natural   \n",
       "2                         Not Applicable           CDC/CRC         Natural   \n",
       "3                         Not Applicable    Local Hospital         Natural   \n",
       "4                         Not Applicable    Local Hospital         Natural   \n",
       "\n",
       "          means_of_death  \n",
       "0  Hanging,Strangulation  \n",
       "1         Not Applicable  \n",
       "2         Not Applicable  \n",
       "3         Not Applicable  \n",
       "4         Not Applicable  "
      ]
     },
     "execution_count": 3,
     "metadata": {},
     "output_type": "execute_result"
    }
   ],
   "source": [
    "df.head()"
   ]
  },
  {
   "cell_type": "code",
   "execution_count": 4,
   "id": "8d733811",
   "metadata": {},
   "outputs": [],
   "source": [
    "import matplotlib.pyplot as plt"
   ]
  },
  {
   "cell_type": "code",
   "execution_count": 5,
   "id": "98955dd5",
   "metadata": {},
   "outputs": [
    {
     "data": {
      "text/plain": [
       "array([[<AxesSubplot:title={'center':'record_key_number'}>,\n",
       "        <AxesSubplot:title={'center':'custody_offense'}>],\n",
       "       [<AxesSubplot:title={'center':'date_of_death_yyyy'}>,\n",
       "        <AxesSubplot:title={'center':'date_of_death_mm'}>],\n",
       "       [<AxesSubplot:title={'center':'date_of_death_dd'}>,\n",
       "        <AxesSubplot:>]], dtype=object)"
      ]
     },
     "execution_count": 5,
     "metadata": {},
     "output_type": "execute_result"
    },
    {
     "data": {
      "image/png": "[encoded data removed]",
      "text/plain": [
       "<Figure size 432x288 with 6 Axes>"
      ]
     },
     "metadata": {
      "needs_background": "light"
     },
     "output_type": "display_data"
    }
   ],
   "source": [
    "df.hist()"
   ]
  },
  {
   "cell_type": "code",
   "execution_count": 6,
   "id": "33df76f3",
   "metadata": {},
   "outputs": [],
   "source": [
    "ageModDf = pd.read_csv(\"csv/age-mod.csv\")"
   ]
  },
  {
   "cell_type": "code",
   "execution_count": 7,
   "id": "00eabb89",
   "metadata": {},
   "outputs": [
    {
     "data": {
      "text/plain": [
       "array([[<AxesSubplot:title={'center':'365'}>]], dtype=object)"
      ]
     },
     "execution_count": 7,
     "metadata": {},
     "output_type": "execute_result"
    },
    {
     "data": {
      "image/png": "[encoded data removed]",
      "text/plain": [
       "<Figure size 432x288 with 1 Axes>"
      ]
     },
     "metadata": {
      "needs_background": "light"
     },
     "output_type": "display_data"
    }
   ],
   "source": [
    "ageModDf.hist()"
   ]
  },
  {
   "cell_type": "code",
   "execution_count": 9,
   "id": "a0871502",
   "metadata": {},
   "outputs": [
    {
     "data": {
      "text/html": [
       "<div>\n",
       "<style scoped>\n",
       "    .dataframe tbody tr th:only-of-type {\n",
       "        vertical-align: middle;\n",
       "    }\n",
       "\n",
       "    .dataframe tbody tr th {\n",
       "        vertical-align: top;\n",
       "    }\n",
       "\n",
       "    .dataframe thead th {\n",
       "        text-align: right;\n",
       "    }\n",
       "</style>\n",
       "<table border=\"1\" class=\"dataframe\">\n",
       "  <thead>\n",
       "    <tr style=\"text-align: right;\">\n",
       "      <th></th>\n",
       "      <th>&lt;= 40</th>\n",
       "      <th>Accidental</th>\n",
       "      <th>365</th>\n",
       "    </tr>\n",
       "  </thead>\n",
       "  <tbody>\n",
       "    <tr>\n",
       "      <th>0</th>\n",
       "      <td>&lt;= 40</td>\n",
       "      <td>Cannot be Determined</td>\n",
       "      <td>61</td>\n",
       "    </tr>\n",
       "    <tr>\n",
       "      <th>1</th>\n",
       "      <td>&lt;= 40</td>\n",
       "      <td>Homicide</td>\n",
       "      <td>1026</td>\n",
       "    </tr>\n",
       "    <tr>\n",
       "      <th>2</th>\n",
       "      <td>&lt;= 40</td>\n",
       "      <td>Natural</td>\n",
       "      <td>485</td>\n",
       "    </tr>\n",
       "    <tr>\n",
       "      <th>3</th>\n",
       "      <td>&lt;= 40</td>\n",
       "      <td>Other</td>\n",
       "      <td>149</td>\n",
       "    </tr>\n",
       "    <tr>\n",
       "      <th>4</th>\n",
       "      <td>&lt;= 40</td>\n",
       "      <td>Suicide</td>\n",
       "      <td>506</td>\n",
       "    </tr>\n",
       "  </tbody>\n",
       "</table>\n",
       "</div>"
      ],
      "text/plain": [
       "   <= 40            Accidental   365\n",
       "0  <= 40  Cannot be Determined    61\n",
       "1  <= 40              Homicide  1026\n",
       "2  <= 40               Natural   485\n",
       "3  <= 40                 Other   149\n",
       "4  <= 40               Suicide   506"
      ]
     },
     "execution_count": 9,
     "metadata": {},
     "output_type": "execute_result"
    }
   ],
   "source": [
    "ageModDf.head()"
   ]
  },
  {
   "cell_type": "code",
   "execution_count": 10,
   "id": "b26cb669",
   "metadata": {},
   "outputs": [],
   "source": [
    "ageModDf = pd.read_csv(\"csv/age-mod.csv\")"
   ]
  },
  {
   "cell_type": "code",
   "execution_count": 11,
   "id": "0595af4c",
   "metadata": {},
   "outputs": [
    {
     "data": {
      "text/html": [
       "<div>\n",
       "<style scoped>\n",
       "    .dataframe tbody tr th:only-of-type {\n",
       "        vertical-align: middle;\n",
       "    }\n",
       "\n",
       "    .dataframe tbody tr th {\n",
       "        vertical-align: top;\n",
       "    }\n",
       "\n",
       "    .dataframe thead th {\n",
       "        text-align: right;\n",
       "    }\n",
       "</style>\n",
       "<table border=\"1\" class=\"dataframe\">\n",
       "  <thead>\n",
       "    <tr style=\"text-align: right;\">\n",
       "      <th></th>\n",
       "      <th>Age</th>\n",
       "      <th>Manner of Death</th>\n",
       "      <th>Frequency</th>\n",
       "    </tr>\n",
       "  </thead>\n",
       "  <tbody>\n",
       "    <tr>\n",
       "      <th>0</th>\n",
       "      <td>&lt;= 40</td>\n",
       "      <td>Accidental</td>\n",
       "      <td>365</td>\n",
       "    </tr>\n",
       "    <tr>\n",
       "      <th>1</th>\n",
       "      <td>&lt;= 40</td>\n",
       "      <td>Cannot be Determined</td>\n",
       "      <td>61</td>\n",
       "    </tr>\n",
       "    <tr>\n",
       "      <th>2</th>\n",
       "      <td>&lt;= 40</td>\n",
       "      <td>Homicide</td>\n",
       "      <td>1026</td>\n",
       "    </tr>\n",
       "    <tr>\n",
       "      <th>3</th>\n",
       "      <td>&lt;= 40</td>\n",
       "      <td>Natural</td>\n",
       "      <td>485</td>\n",
       "    </tr>\n",
       "    <tr>\n",
       "      <th>4</th>\n",
       "      <td>&lt;= 40</td>\n",
       "      <td>Other</td>\n",
       "      <td>149</td>\n",
       "    </tr>\n",
       "  </tbody>\n",
       "</table>\n",
       "</div>"
      ],
      "text/plain": [
       "     Age       Manner of Death  Frequency\n",
       "0  <= 40            Accidental        365\n",
       "1  <= 40  Cannot be Determined         61\n",
       "2  <= 40              Homicide       1026\n",
       "3  <= 40               Natural        485\n",
       "4  <= 40                 Other        149"
      ]
     },
     "execution_count": 11,
     "metadata": {},
     "output_type": "execute_result"
    }
   ],
   "source": [
    "ageModDf.head()"
   ]
  },
  {
   "cell_type": "code",
   "execution_count": 12,
   "id": "a3a368fa",
   "metadata": {},
   "outputs": [
    {
     "ename": "KeyError",
     "evalue": "('Age', 'Manner of Death', 'Frequency')",
     "output_type": "error",
     "traceback": [
      "\u001b[1;31m---------------------------------------------------------------------------\u001b[0m",
      "\u001b[1;31mKeyError\u001b[0m                                  Traceback (most recent call last)",
      "File \u001b[1;32m~\\AppData\\Local\\Programs\\Python\\Python310\\lib\\site-packages\\pandas\\core\\indexes\\base.py:3621\u001b[0m, in \u001b[0;36mIndex.get_loc\u001b[1;34m(self, key, method, tolerance)\u001b[0m\n\u001b[0;32m   3620\u001b[0m \u001b[38;5;28;01mtry\u001b[39;00m:\n\u001b[1;32m-> 3621\u001b[0m     \u001b[38;5;28;01mreturn\u001b[39;00m \u001b[38;5;28;43mself\u001b[39;49m\u001b[38;5;241;43m.\u001b[39;49m\u001b[43m_engine\u001b[49m\u001b[38;5;241;43m.\u001b[39;49m\u001b[43mget_loc\u001b[49m\u001b[43m(\u001b[49m\u001b[43mcasted_key\u001b[49m\u001b[43m)\u001b[49m\n\u001b[0;32m   3622\u001b[0m \u001b[38;5;28;01mexcept\u001b[39;00m \u001b[38;5;167;01mKeyError\u001b[39;00m \u001b[38;5;28;01mas\u001b[39;00m err:\n",
      "File \u001b[1;32m~\\AppData\\Local\\Programs\\Python\\Python310\\lib\\site-packages\\pandas\\_libs\\index.pyx:136\u001b[0m, in \u001b[0;36mpandas._libs.index.IndexEngine.get_loc\u001b[1;34m()\u001b[0m\n",
      "File \u001b[1;32m~\\AppData\\Local\\Programs\\Python\\Python310\\lib\\site-packages\\pandas\\_libs\\index.pyx:163\u001b[0m, in \u001b[0;36mpandas._libs.index.IndexEngine.get_loc\u001b[1;34m()\u001b[0m\n",
      "File \u001b[1;32mpandas\\_libs\\hashtable_class_helper.pxi:5198\u001b[0m, in \u001b[0;36mpandas._libs.hashtable.PyObjectHashTable.get_item\u001b[1;34m()\u001b[0m\n",
      "File \u001b[1;32mpandas\\_libs\\hashtable_class_helper.pxi:5206\u001b[0m, in \u001b[0;36mpandas._libs.hashtable.PyObjectHashTable.get_item\u001b[1;34m()\u001b[0m\n",
      "\u001b[1;31mKeyError\u001b[0m: ('Age', 'Manner of Death', 'Frequency')",
      "\nThe above exception was the direct cause of the following exception:\n",
      "\u001b[1;31mKeyError\u001b[0m                                  Traceback (most recent call last)",
      "Input \u001b[1;32mIn [12]\u001b[0m, in \u001b[0;36m<cell line: 1>\u001b[1;34m()\u001b[0m\n\u001b[1;32m----> 1\u001b[0m \u001b[43mageModDf\u001b[49m\u001b[43m[\u001b[49m\u001b[38;5;124;43m'\u001b[39;49m\u001b[38;5;124;43mAge\u001b[39;49m\u001b[38;5;124;43m'\u001b[39;49m\u001b[43m,\u001b[49m\u001b[43m \u001b[49m\u001b[38;5;124;43m'\u001b[39;49m\u001b[38;5;124;43mManner of Death\u001b[39;49m\u001b[38;5;124;43m'\u001b[39;49m\u001b[43m,\u001b[49m\u001b[43m \u001b[49m\u001b[38;5;124;43m'\u001b[39;49m\u001b[38;5;124;43mFrequency\u001b[39;49m\u001b[38;5;124;43m'\u001b[39;49m\u001b[43m]\u001b[49m\u001b[38;5;241m.\u001b[39mplot(kind\u001b[38;5;241m=\u001b[39m\u001b[38;5;124m'\u001b[39m\u001b[38;5;124mhist\u001b[39m\u001b[38;5;124m'\u001b[39m)\n",
      "File \u001b[1;32m~\\AppData\\Local\\Programs\\Python\\Python310\\lib\\site-packages\\pandas\\core\\frame.py:3505\u001b[0m, in \u001b[0;36mDataFrame.__getitem__\u001b[1;34m(self, key)\u001b[0m\n\u001b[0;32m   3503\u001b[0m \u001b[38;5;28;01mif\u001b[39;00m \u001b[38;5;28mself\u001b[39m\u001b[38;5;241m.\u001b[39mcolumns\u001b[38;5;241m.\u001b[39mnlevels \u001b[38;5;241m>\u001b[39m \u001b[38;5;241m1\u001b[39m:\n\u001b[0;32m   3504\u001b[0m     \u001b[38;5;28;01mreturn\u001b[39;00m \u001b[38;5;28mself\u001b[39m\u001b[38;5;241m.\u001b[39m_getitem_multilevel(key)\n\u001b[1;32m-> 3505\u001b[0m indexer \u001b[38;5;241m=\u001b[39m \u001b[38;5;28;43mself\u001b[39;49m\u001b[38;5;241;43m.\u001b[39;49m\u001b[43mcolumns\u001b[49m\u001b[38;5;241;43m.\u001b[39;49m\u001b[43mget_loc\u001b[49m\u001b[43m(\u001b[49m\u001b[43mkey\u001b[49m\u001b[43m)\u001b[49m\n\u001b[0;32m   3506\u001b[0m \u001b[38;5;28;01mif\u001b[39;00m is_integer(indexer):\n\u001b[0;32m   3507\u001b[0m     indexer \u001b[38;5;241m=\u001b[39m [indexer]\n",
      "File \u001b[1;32m~\\AppData\\Local\\Programs\\Python\\Python310\\lib\\site-packages\\pandas\\core\\indexes\\base.py:3623\u001b[0m, in \u001b[0;36mIndex.get_loc\u001b[1;34m(self, key, method, tolerance)\u001b[0m\n\u001b[0;32m   3621\u001b[0m     \u001b[38;5;28;01mreturn\u001b[39;00m \u001b[38;5;28mself\u001b[39m\u001b[38;5;241m.\u001b[39m_engine\u001b[38;5;241m.\u001b[39mget_loc(casted_key)\n\u001b[0;32m   3622\u001b[0m \u001b[38;5;28;01mexcept\u001b[39;00m \u001b[38;5;167;01mKeyError\u001b[39;00m \u001b[38;5;28;01mas\u001b[39;00m err:\n\u001b[1;32m-> 3623\u001b[0m     \u001b[38;5;28;01mraise\u001b[39;00m \u001b[38;5;167;01mKeyError\u001b[39;00m(key) \u001b[38;5;28;01mfrom\u001b[39;00m \u001b[38;5;21;01merr\u001b[39;00m\n\u001b[0;32m   3624\u001b[0m \u001b[38;5;28;01mexcept\u001b[39;00m \u001b[38;5;167;01mTypeError\u001b[39;00m:\n\u001b[0;32m   3625\u001b[0m     \u001b[38;5;66;03m# If we have a listlike key, _check_indexing_error will raise\u001b[39;00m\n\u001b[0;32m   3626\u001b[0m     \u001b[38;5;66;03m#  InvalidIndexError. Otherwise we fall through and re-raise\u001b[39;00m\n\u001b[0;32m   3627\u001b[0m     \u001b[38;5;66;03m#  the TypeError.\u001b[39;00m\n\u001b[0;32m   3628\u001b[0m     \u001b[38;5;28mself\u001b[39m\u001b[38;5;241m.\u001b[39m_check_indexing_error(key)\n",
      "\u001b[1;31mKeyError\u001b[0m: ('Age', 'Manner of Death', 'Frequency')"
     ]
    }
   ],
   "source": [
    "ageModDf['Age', 'Manner of Death', 'Frequency'].plot(kind='hist')"
   ]
  },
  {
   "cell_type": "code",
   "execution_count": 13,
   "id": "938741bb",
   "metadata": {},
   "outputs": [
    {
     "ename": "TypeError",
     "evalue": "no numeric data to plot",
     "output_type": "error",
     "traceback": [
      "\u001b[1;31m---------------------------------------------------------------------------\u001b[0m",
      "\u001b[1;31mTypeError\u001b[0m                                 Traceback (most recent call last)",
      "Input \u001b[1;32mIn [13]\u001b[0m, in \u001b[0;36m<cell line: 1>\u001b[1;34m()\u001b[0m\n\u001b[1;32m----> 1\u001b[0m \u001b[43mageModDf\u001b[49m\u001b[43m[\u001b[49m\u001b[38;5;124;43m'\u001b[39;49m\u001b[38;5;124;43mAge\u001b[39;49m\u001b[38;5;124;43m'\u001b[39;49m\u001b[43m]\u001b[49m\u001b[38;5;241;43m.\u001b[39;49m\u001b[43mplot\u001b[49m\u001b[43m(\u001b[49m\u001b[43mkind\u001b[49m\u001b[38;5;241;43m=\u001b[39;49m\u001b[38;5;124;43m'\u001b[39;49m\u001b[38;5;124;43mhist\u001b[39;49m\u001b[38;5;124;43m'\u001b[39;49m\u001b[43m)\u001b[49m\n",
      "File \u001b[1;32m~\\AppData\\Local\\Programs\\Python\\Python310\\lib\\site-packages\\pandas\\plotting\\_core.py:972\u001b[0m, in \u001b[0;36mPlotAccessor.__call__\u001b[1;34m(self, *args, **kwargs)\u001b[0m\n\u001b[0;32m    969\u001b[0m             label_name \u001b[38;5;241m=\u001b[39m label_kw \u001b[38;5;129;01mor\u001b[39;00m data\u001b[38;5;241m.\u001b[39mcolumns\n\u001b[0;32m    970\u001b[0m             data\u001b[38;5;241m.\u001b[39mcolumns \u001b[38;5;241m=\u001b[39m label_name\n\u001b[1;32m--> 972\u001b[0m \u001b[38;5;28;01mreturn\u001b[39;00m plot_backend\u001b[38;5;241m.\u001b[39mplot(data, kind\u001b[38;5;241m=\u001b[39mkind, \u001b[38;5;241m*\u001b[39m\u001b[38;5;241m*\u001b[39mkwargs)\n",
      "File \u001b[1;32m~\\AppData\\Local\\Programs\\Python\\Python310\\lib\\site-packages\\pandas\\plotting\\_matplotlib\\__init__.py:71\u001b[0m, in \u001b[0;36mplot\u001b[1;34m(data, kind, **kwargs)\u001b[0m\n\u001b[0;32m     69\u001b[0m         kwargs[\u001b[38;5;124m\"\u001b[39m\u001b[38;5;124max\u001b[39m\u001b[38;5;124m\"\u001b[39m] \u001b[38;5;241m=\u001b[39m \u001b[38;5;28mgetattr\u001b[39m(ax, \u001b[38;5;124m\"\u001b[39m\u001b[38;5;124mleft_ax\u001b[39m\u001b[38;5;124m\"\u001b[39m, ax)\n\u001b[0;32m     70\u001b[0m plot_obj \u001b[38;5;241m=\u001b[39m PLOT_CLASSES[kind](data, \u001b[38;5;241m*\u001b[39m\u001b[38;5;241m*\u001b[39mkwargs)\n\u001b[1;32m---> 71\u001b[0m \u001b[43mplot_obj\u001b[49m\u001b[38;5;241;43m.\u001b[39;49m\u001b[43mgenerate\u001b[49m\u001b[43m(\u001b[49m\u001b[43m)\u001b[49m\n\u001b[0;32m     72\u001b[0m plot_obj\u001b[38;5;241m.\u001b[39mdraw()\n\u001b[0;32m     73\u001b[0m \u001b[38;5;28;01mreturn\u001b[39;00m plot_obj\u001b[38;5;241m.\u001b[39mresult\n",
      "File \u001b[1;32m~\\AppData\\Local\\Programs\\Python\\Python310\\lib\\site-packages\\pandas\\plotting\\_matplotlib\\core.py:327\u001b[0m, in \u001b[0;36mMPLPlot.generate\u001b[1;34m(self)\u001b[0m\n\u001b[0;32m    325\u001b[0m \u001b[38;5;28;01mdef\u001b[39;00m \u001b[38;5;21mgenerate\u001b[39m(\u001b[38;5;28mself\u001b[39m):\n\u001b[0;32m    326\u001b[0m     \u001b[38;5;28mself\u001b[39m\u001b[38;5;241m.\u001b[39m_args_adjust()\n\u001b[1;32m--> 327\u001b[0m     \u001b[38;5;28;43mself\u001b[39;49m\u001b[38;5;241;43m.\u001b[39;49m\u001b[43m_compute_plot_data\u001b[49m\u001b[43m(\u001b[49m\u001b[43m)\u001b[49m\n\u001b[0;32m    328\u001b[0m     \u001b[38;5;28mself\u001b[39m\u001b[38;5;241m.\u001b[39m_setup_subplots()\n\u001b[0;32m    329\u001b[0m     \u001b[38;5;28mself\u001b[39m\u001b[38;5;241m.\u001b[39m_make_plot()\n",
      "File \u001b[1;32m~\\AppData\\Local\\Programs\\Python\\Python310\\lib\\site-packages\\pandas\\plotting\\_matplotlib\\core.py:506\u001b[0m, in \u001b[0;36mMPLPlot._compute_plot_data\u001b[1;34m(self)\u001b[0m\n\u001b[0;32m    504\u001b[0m \u001b[38;5;66;03m# no non-numeric frames or series allowed\u001b[39;00m\n\u001b[0;32m    505\u001b[0m \u001b[38;5;28;01mif\u001b[39;00m is_empty:\n\u001b[1;32m--> 506\u001b[0m     \u001b[38;5;28;01mraise\u001b[39;00m \u001b[38;5;167;01mTypeError\u001b[39;00m(\u001b[38;5;124m\"\u001b[39m\u001b[38;5;124mno numeric data to plot\u001b[39m\u001b[38;5;124m\"\u001b[39m)\n\u001b[0;32m    508\u001b[0m \u001b[38;5;28mself\u001b[39m\u001b[38;5;241m.\u001b[39mdata \u001b[38;5;241m=\u001b[39m numeric_data\u001b[38;5;241m.\u001b[39mapply(\u001b[38;5;28mself\u001b[39m\u001b[38;5;241m.\u001b[39m_convert_to_ndarray)\n",
      "\u001b[1;31mTypeError\u001b[0m: no numeric data to plot"
     ]
    }
   ],
   "source": [
    "ageModDf['Age'].plot(kind='hist')"
   ]
  },
  {
   "cell_type": "code",
   "execution_count": 14,
   "id": "69673de9",
   "metadata": {},
   "outputs": [
    {
     "data": {
      "text/html": [
       "<div>\n",
       "<style scoped>\n",
       "    .dataframe tbody tr th:only-of-type {\n",
       "        vertical-align: middle;\n",
       "    }\n",
       "\n",
       "    .dataframe tbody tr th {\n",
       "        vertical-align: top;\n",
       "    }\n",
       "\n",
       "    .dataframe thead th {\n",
       "        text-align: right;\n",
       "    }\n",
       "</style>\n",
       "<table border=\"1\" class=\"dataframe\">\n",
       "  <thead>\n",
       "    <tr style=\"text-align: right;\">\n",
       "      <th></th>\n",
       "      <th>Age</th>\n",
       "      <th>Manner of Death</th>\n",
       "      <th>Frequency</th>\n",
       "    </tr>\n",
       "  </thead>\n",
       "  <tbody>\n",
       "    <tr>\n",
       "      <th>0</th>\n",
       "      <td>&lt;= 40</td>\n",
       "      <td>Accidental</td>\n",
       "      <td>365</td>\n",
       "    </tr>\n",
       "  </tbody>\n",
       "</table>\n",
       "</div>"
      ],
      "text/plain": [
       "     Age Manner of Death  Frequency\n",
       "0  <= 40      Accidental        365"
      ]
     },
     "execution_count": 14,
     "metadata": {},
     "output_type": "execute_result"
    }
   ],
   "source": [
    "ageModDf.head(1)"
   ]
  },
  {
   "cell_type": "code",
   "execution_count": 15,
   "id": "11f29409",
   "metadata": {},
   "outputs": [
    {
     "ename": "TypeError",
     "evalue": "no numeric data to plot",
     "output_type": "error",
     "traceback": [
      "\u001b[1;31m---------------------------------------------------------------------------\u001b[0m",
      "\u001b[1;31mTypeError\u001b[0m                                 Traceback (most recent call last)",
      "Input \u001b[1;32mIn [15]\u001b[0m, in \u001b[0;36m<cell line: 1>\u001b[1;34m()\u001b[0m\n\u001b[1;32m----> 1\u001b[0m \u001b[43mageModDf\u001b[49m\u001b[43m[\u001b[49m\u001b[38;5;124;43m'\u001b[39;49m\u001b[38;5;124;43mAge\u001b[39;49m\u001b[38;5;124;43m'\u001b[39;49m\u001b[43m]\u001b[49m\u001b[38;5;241;43m.\u001b[39;49m\u001b[43mplot\u001b[49m\u001b[43m(\u001b[49m\u001b[43mkind\u001b[49m\u001b[38;5;241;43m=\u001b[39;49m\u001b[38;5;124;43m'\u001b[39;49m\u001b[38;5;124;43mhist\u001b[39;49m\u001b[38;5;124;43m'\u001b[39;49m\u001b[43m)\u001b[49m\n",
      "File \u001b[1;32m~\\AppData\\Local\\Programs\\Python\\Python310\\lib\\site-packages\\pandas\\plotting\\_core.py:972\u001b[0m, in \u001b[0;36mPlotAccessor.__call__\u001b[1;34m(self, *args, **kwargs)\u001b[0m\n\u001b[0;32m    969\u001b[0m             label_name \u001b[38;5;241m=\u001b[39m label_kw \u001b[38;5;129;01mor\u001b[39;00m data\u001b[38;5;241m.\u001b[39mcolumns\n\u001b[0;32m    970\u001b[0m             data\u001b[38;5;241m.\u001b[39mcolumns \u001b[38;5;241m=\u001b[39m label_name\n\u001b[1;32m--> 972\u001b[0m \u001b[38;5;28;01mreturn\u001b[39;00m plot_backend\u001b[38;5;241m.\u001b[39mplot(data, kind\u001b[38;5;241m=\u001b[39mkind, \u001b[38;5;241m*\u001b[39m\u001b[38;5;241m*\u001b[39mkwargs)\n",
      "File \u001b[1;32m~\\AppData\\Local\\Programs\\Python\\Python310\\lib\\site-packages\\pandas\\plotting\\_matplotlib\\__init__.py:71\u001b[0m, in \u001b[0;36mplot\u001b[1;34m(data, kind, **kwargs)\u001b[0m\n\u001b[0;32m     69\u001b[0m         kwargs[\u001b[38;5;124m\"\u001b[39m\u001b[38;5;124max\u001b[39m\u001b[38;5;124m\"\u001b[39m] \u001b[38;5;241m=\u001b[39m \u001b[38;5;28mgetattr\u001b[39m(ax, \u001b[38;5;124m\"\u001b[39m\u001b[38;5;124mleft_ax\u001b[39m\u001b[38;5;124m\"\u001b[39m, ax)\n\u001b[0;32m     70\u001b[0m plot_obj \u001b[38;5;241m=\u001b[39m PLOT_CLASSES[kind](data, \u001b[38;5;241m*\u001b[39m\u001b[38;5;241m*\u001b[39mkwargs)\n\u001b[1;32m---> 71\u001b[0m \u001b[43mplot_obj\u001b[49m\u001b[38;5;241;43m.\u001b[39;49m\u001b[43mgenerate\u001b[49m\u001b[43m(\u001b[49m\u001b[43m)\u001b[49m\n\u001b[0;32m     72\u001b[0m plot_obj\u001b[38;5;241m.\u001b[39mdraw()\n\u001b[0;32m     73\u001b[0m \u001b[38;5;28;01mreturn\u001b[39;00m plot_obj\u001b[38;5;241m.\u001b[39mresult\n",
      "File \u001b[1;32m~\\AppData\\Local\\Programs\\Python\\Python310\\lib\\site-packages\\pandas\\plotting\\_matplotlib\\core.py:327\u001b[0m, in \u001b[0;36mMPLPlot.generate\u001b[1;34m(self)\u001b[0m\n\u001b[0;32m    325\u001b[0m \u001b[38;5;28;01mdef\u001b[39;00m \u001b[38;5;21mgenerate\u001b[39m(\u001b[38;5;28mself\u001b[39m):\n\u001b[0;32m    326\u001b[0m     \u001b[38;5;28mself\u001b[39m\u001b[38;5;241m.\u001b[39m_args_adjust()\n\u001b[1;32m--> 327\u001b[0m     \u001b[38;5;28;43mself\u001b[39;49m\u001b[38;5;241;43m.\u001b[39;49m\u001b[43m_compute_plot_data\u001b[49m\u001b[43m(\u001b[49m\u001b[43m)\u001b[49m\n\u001b[0;32m    328\u001b[0m     \u001b[38;5;28mself\u001b[39m\u001b[38;5;241m.\u001b[39m_setup_subplots()\n\u001b[0;32m    329\u001b[0m     \u001b[38;5;28mself\u001b[39m\u001b[38;5;241m.\u001b[39m_make_plot()\n",
      "File \u001b[1;32m~\\AppData\\Local\\Programs\\Python\\Python310\\lib\\site-packages\\pandas\\plotting\\_matplotlib\\core.py:506\u001b[0m, in \u001b[0;36mMPLPlot._compute_plot_data\u001b[1;34m(self)\u001b[0m\n\u001b[0;32m    504\u001b[0m \u001b[38;5;66;03m# no non-numeric frames or series allowed\u001b[39;00m\n\u001b[0;32m    505\u001b[0m \u001b[38;5;28;01mif\u001b[39;00m is_empty:\n\u001b[1;32m--> 506\u001b[0m     \u001b[38;5;28;01mraise\u001b[39;00m \u001b[38;5;167;01mTypeError\u001b[39;00m(\u001b[38;5;124m\"\u001b[39m\u001b[38;5;124mno numeric data to plot\u001b[39m\u001b[38;5;124m\"\u001b[39m)\n\u001b[0;32m    508\u001b[0m \u001b[38;5;28mself\u001b[39m\u001b[38;5;241m.\u001b[39mdata \u001b[38;5;241m=\u001b[39m numeric_data\u001b[38;5;241m.\u001b[39mapply(\u001b[38;5;28mself\u001b[39m\u001b[38;5;241m.\u001b[39m_convert_to_ndarray)\n",
      "\u001b[1;31mTypeError\u001b[0m: no numeric data to plot"
     ]
    }
   ],
   "source": [
    "ageModDf['Age'].plot(kind='hist')"
   ]
  },
  {
   "cell_type": "code",
   "execution_count": 16,
   "id": "6ccb1123",
   "metadata": {},
   "outputs": [
    {
     "data": {
      "text/plain": [
       "<AxesSubplot:ylabel='Frequency'>"
      ]
     },
     "execution_count": 16,
     "metadata": {},
     "output_type": "execute_result"
    },
    {
     "data": {
      "image/png": "[encoded data removed]",
      "text/plain": [
       "<Figure size 432x288 with 1 Axes>"
      ]
     },
     "metadata": {
      "needs_background": "light"
     },
     "output_type": "display_data"
    }
   ],
   "source": [
    "ageModDf['Frequency'].plot(kind='hist')"
   ]
  },
  {
   "cell_type": "code",
   "execution_count": 17,
   "id": "4e8e8391",
   "metadata": {},
   "outputs": [
    {
     "data": {
      "text/plain": [
       "[<matplotlib.lines.Line2D at 0x29c84bb1600>]"
      ]
     },
     "execution_count": 17,
     "metadata": {},
     "output_type": "execute_result"
    },
    {
     "data": {
      "image/png": "[encoded data removed]",
      "text/plain": [
       "<Figure size 432x288 with 1 Axes>"
      ]
     },
     "metadata": {
      "needs_background": "light"
     },
     "output_type": "display_data"
    }
   ],
   "source": [
    "plt.plot(ageModDf['Frequency'])"
   ]
  },
  {
   "cell_type": "code",
   "execution_count": 18,
   "id": "fd47f680",
   "metadata": {},
   "outputs": [
    {
     "data": {
      "text/plain": [
       "(array([8., 3., 1., 0., 0., 0., 0., 0., 0., 1.]),\n",
       " array([1.0000e+00, 4.4590e+02, 8.9080e+02, 1.3357e+03, 1.7806e+03,\n",
       "        2.2255e+03, 2.6704e+03, 3.1153e+03, 3.5602e+03, 4.0051e+03,\n",
       "        4.4500e+03]),\n",
       " <BarContainer object of 10 artists>)"
      ]
     },
     "execution_count": 18,
     "metadata": {},
     "output_type": "execute_result"
    },
    {
     "data": {
      "image/png": "[encoded data removed]",
      "text/plain": [
       "<Figure size 432x288 with 1 Axes>"
      ]
     },
     "metadata": {
      "needs_background": "light"
     },
     "output_type": "display_data"
    }
   ],
   "source": [
    "plt.hist(ageModDf['Frequency'])"
   ]
  },
  {
   "cell_type": "code",
   "execution_count": 23,
   "id": "01a752d9",
   "metadata": {},
   "outputs": [
    {
     "data": {
      "text/plain": [
       "array([[<AxesSubplot:title={'center':'<= 40'}>,\n",
       "        <AxesSubplot:title={'center':'> 40'}>],\n",
       "       [<AxesSubplot:title={'center':'Unk'}>, <AxesSubplot:>]],\n",
       "      dtype=object)"
      ]
     },
     "execution_count": 23,
     "metadata": {},
     "output_type": "execute_result"
    },
    {
     "data": {
      "image/png": "[encoded data removed]",
      "text/plain": [
       "<Figure size 432x288 with 4 Axes>"
      ]
     },
     "metadata": {
      "needs_background": "light"
     },
     "output_type": "display_data"
    }
   ],
   "source": [
    "ageModDf.hist(by='Age',column='Frequency')"
   ]
  },
  {
   "cell_type": "code",
   "execution_count": 24,
   "id": "f2bbb5db",
   "metadata": {},
   "outputs": [
    {
     "data": {
      "text/html": [
       "<div>\n",
       "<style scoped>\n",
       "    .dataframe tbody tr th:only-of-type {\n",
       "        vertical-align: middle;\n",
       "    }\n",
       "\n",
       "    .dataframe tbody tr th {\n",
       "        vertical-align: top;\n",
       "    }\n",
       "\n",
       "    .dataframe thead th {\n",
       "        text-align: right;\n",
       "    }\n",
       "</style>\n",
       "<table border=\"1\" class=\"dataframe\">\n",
       "  <thead>\n",
       "    <tr style=\"text-align: right;\">\n",
       "      <th></th>\n",
       "      <th>Age</th>\n",
       "      <th>Manner of Death</th>\n",
       "      <th>Frequency</th>\n",
       "    </tr>\n",
       "  </thead>\n",
       "  <tbody>\n",
       "    <tr>\n",
       "      <th>0</th>\n",
       "      <td>&lt;= 40</td>\n",
       "      <td>Accidental</td>\n",
       "      <td>365</td>\n",
       "    </tr>\n",
       "  </tbody>\n",
       "</table>\n",
       "</div>"
      ],
      "text/plain": [
       "     Age Manner of Death  Frequency\n",
       "0  <= 40      Accidental        365"
      ]
     },
     "execution_count": 24,
     "metadata": {},
     "output_type": "execute_result"
    }
   ],
   "source": [
    "ageModDf.head(1)"
   ]
  },
  {
   "cell_type": "code",
   "execution_count": 25,
   "id": "362f4057",
   "metadata": {},
   "outputs": [
    {
     "data": {
      "text/html": [
       "<div>\n",
       "<style scoped>\n",
       "    .dataframe tbody tr th:only-of-type {\n",
       "        vertical-align: middle;\n",
       "    }\n",
       "\n",
       "    .dataframe tbody tr th {\n",
       "        vertical-align: top;\n",
       "    }\n",
       "\n",
       "    .dataframe thead th {\n",
       "        text-align: right;\n",
       "    }\n",
       "</style>\n",
       "<table border=\"1\" class=\"dataframe\">\n",
       "  <thead>\n",
       "    <tr style=\"text-align: right;\">\n",
       "      <th></th>\n",
       "      <th>record_key_number</th>\n",
       "      <th>reporting_agency</th>\n",
       "      <th>agency_number</th>\n",
       "      <th>agency_full_name</th>\n",
       "      <th>county</th>\n",
       "      <th>race</th>\n",
       "      <th>gender</th>\n",
       "      <th>age</th>\n",
       "      <th>custody_status</th>\n",
       "      <th>custody_offense</th>\n",
       "      <th>date_of_death_yyyy</th>\n",
       "      <th>date_of_death_mm</th>\n",
       "      <th>date_of_death_dd</th>\n",
       "      <th>custodial_responsibilty_at_time_of_death</th>\n",
       "      <th>location_where_cause_of_death_occurred</th>\n",
       "      <th>facility_of_death</th>\n",
       "      <th>manner_of_death</th>\n",
       "      <th>means_of_death</th>\n",
       "    </tr>\n",
       "  </thead>\n",
       "  <tbody>\n",
       "    <tr>\n",
       "      <th>0</th>\n",
       "      <td>2005001</td>\n",
       "      <td>State</td>\n",
       "      <td>27025C</td>\n",
       "      <td>Salinas Valley State Prison</td>\n",
       "      <td>Monterey</td>\n",
       "      <td>Other</td>\n",
       "      <td>Male</td>\n",
       "      <td>35</td>\n",
       "      <td>Sentenced</td>\n",
       "      <td>110</td>\n",
       "      <td>2005</td>\n",
       "      <td>1</td>\n",
       "      <td>3</td>\n",
       "      <td>CDC/CRC</td>\n",
       "      <td>Living</td>\n",
       "      <td>CDC/CRC</td>\n",
       "      <td>Suicide</td>\n",
       "      <td>Hanging,Strangulation</td>\n",
       "    </tr>\n",
       "  </tbody>\n",
       "</table>\n",
       "</div>"
      ],
      "text/plain": [
       "   record_key_number reporting_agency agency_number  \\\n",
       "0            2005001            State        27025C   \n",
       "\n",
       "              agency_full_name    county   race gender age custody_status  \\\n",
       "0  Salinas Valley State Prison  Monterey  Other   Male  35      Sentenced   \n",
       "\n",
       "   custody_offense  date_of_death_yyyy  date_of_death_mm  date_of_death_dd  \\\n",
       "0              110                2005                 1                 3   \n",
       "\n",
       "  custodial_responsibilty_at_time_of_death  \\\n",
       "0                                  CDC/CRC   \n",
       "\n",
       "  location_where_cause_of_death_occurred facility_of_death manner_of_death  \\\n",
       "0                                 Living           CDC/CRC         Suicide   \n",
       "\n",
       "          means_of_death  \n",
       "0  Hanging,Strangulation  "
      ]
     },
     "execution_count": 25,
     "metadata": {},
     "output_type": "execute_result"
    }
   ],
   "source": [
    "df.head(1)"
   ]
  },
  {
   "cell_type": "code",
   "execution_count": 26,
   "id": "b965270c",
   "metadata": {},
   "outputs": [
    {
     "data": {
      "image/png": "[encoded data removed]",
      "text/plain": [
       "<Figure size 432x288 with 1 Axes>"
      ]
     },
     "metadata": {
      "needs_background": "light"
     },
     "output_type": "display_data"
    }
   ],
   "source": [
    "plt.hist(df['manner_of_death'])\n",
    "plt.ylabel('Frequency count')\n",
    "plt.xlabel('Data');\n",
    "plt.title('My histogram')\n",
    "plt.show()"
   ]
  },
  {
   "cell_type": "code",
   "execution_count": 27,
   "id": "dd798022",
   "metadata": {},
   "outputs": [],
   "source": [
    "ageModDf2 = pd.read_csv(\"csv/age-mod-2.csv\")"
   ]
  },
  {
   "cell_type": "code",
   "execution_count": 28,
   "id": "9554c07a",
   "metadata": {},
   "outputs": [
    {
     "data": {
      "text/html": [
       "<div>\n",
       "<style scoped>\n",
       "    .dataframe tbody tr th:only-of-type {\n",
       "        vertical-align: middle;\n",
       "    }\n",
       "\n",
       "    .dataframe tbody tr th {\n",
       "        vertical-align: top;\n",
       "    }\n",
       "\n",
       "    .dataframe thead th {\n",
       "        text-align: right;\n",
       "    }\n",
       "</style>\n",
       "<table border=\"1\" class=\"dataframe\">\n",
       "  <thead>\n",
       "    <tr style=\"text-align: right;\">\n",
       "      <th></th>\n",
       "      <th>age</th>\n",
       "      <th>manner_of_death</th>\n",
       "    </tr>\n",
       "  </thead>\n",
       "  <tbody>\n",
       "    <tr>\n",
       "      <th>0</th>\n",
       "      <td>&lt;= 40</td>\n",
       "      <td>Homicide Justified (Law Enforcement Staff)</td>\n",
       "    </tr>\n",
       "  </tbody>\n",
       "</table>\n",
       "</div>"
      ],
      "text/plain": [
       "     age                             manner_of_death\n",
       "0  <= 40  Homicide Justified (Law Enforcement Staff)"
      ]
     },
     "execution_count": 28,
     "metadata": {},
     "output_type": "execute_result"
    }
   ],
   "source": [
    "ageModDf2.head(1)"
   ]
  },
  {
   "cell_type": "code",
   "execution_count": 29,
   "id": "71754d13",
   "metadata": {},
   "outputs": [
    {
     "data": {
      "image/png": "[encoded data removed]",
      "text/plain": [
       "<Figure size 432x288 with 1 Axes>"
      ]
     },
     "metadata": {
      "needs_background": "light"
     },
     "output_type": "display_data"
    }
   ],
   "source": [
    "plt.hist(ageModDf2['manner_of_death'])\n",
    "plt.ylabel('Frequency count')\n",
    "plt.xlabel('Data');\n",
    "plt.title('My histogram')\n",
    "plt.show()"
   ]
  },
  {
   "cell_type": "code",
   "execution_count": 30,
   "id": "df7ff3b0",
   "metadata": {},
   "outputs": [],
   "source": [
    "ageModDf = pd.read_csv(\"csv/age-mod.csv\")"
   ]
  },
  {
   "cell_type": "code",
   "execution_count": 31,
   "id": "240df1fd",
   "metadata": {},
   "outputs": [
    {
     "data": {
      "text/html": [
       "<div>\n",
       "<style scoped>\n",
       "    .dataframe tbody tr th:only-of-type {\n",
       "        vertical-align: middle;\n",
       "    }\n",
       "\n",
       "    .dataframe tbody tr th {\n",
       "        vertical-align: top;\n",
       "    }\n",
       "\n",
       "    .dataframe thead th {\n",
       "        text-align: right;\n",
       "    }\n",
       "</style>\n",
       "<table border=\"1\" class=\"dataframe\">\n",
       "  <thead>\n",
       "    <tr style=\"text-align: right;\">\n",
       "      <th></th>\n",
       "      <th>age</th>\n",
       "      <th>manner_of_death</th>\n",
       "      <th>frequency</th>\n",
       "    </tr>\n",
       "  </thead>\n",
       "  <tbody>\n",
       "    <tr>\n",
       "      <th>0</th>\n",
       "      <td>&lt;= 40</td>\n",
       "      <td>Accidental</td>\n",
       "      <td>365</td>\n",
       "    </tr>\n",
       "  </tbody>\n",
       "</table>\n",
       "</div>"
      ],
      "text/plain": [
       "     age manner_of_death  frequency\n",
       "0  <= 40      Accidental        365"
      ]
     },
     "execution_count": 31,
     "metadata": {},
     "output_type": "execute_result"
    }
   ],
   "source": [
    "ageModDf.head(1)"
   ]
  },
  {
   "cell_type": "code",
   "execution_count": 32,
   "id": "7b349bdb",
   "metadata": {},
   "outputs": [
    {
     "data": {
      "text/plain": [
       "<AxesSubplot:ylabel='Frequency'>"
      ]
     },
     "execution_count": 32,
     "metadata": {},
     "output_type": "execute_result"
    },
    {
     "data": {
      "image/png": "[encoded data removed]",
      "text/plain": [
       "<Figure size 432x288 with 1 Axes>"
      ]
     },
     "metadata": {
      "needs_background": "light"
     },
     "output_type": "display_data"
    }
   ],
   "source": [
    "ageModDf.plot( x='manner_of_death', y='frequency', kind='hist')"
   ]
  },
  {
   "cell_type": "code",
   "execution_count": 1,
   "id": "d4cb314d",
   "metadata": {},
   "outputs": [],
   "source": [
    "#Import Python Libraries\n",
    "import numpy as np\n",
    "import scipy as sp\n",
    "import pandas as pd\n",
    "import matplotlib as mpl\n",
    "import seaborn as sns"
   ]
  },
  {
   "cell_type": "code",
   "execution_count": 3,
   "id": "6cf1c978",
   "metadata": {},
   "outputs": [],
   "source": [
    "#Read csv file\n",
    "df = pd.read_csv(\"csv/deaths-in-custody.csv\")"
   ]
  },
  {
   "cell_type": "code",
   "execution_count": 4,
   "id": "ff39fc76",
   "metadata": {},
   "outputs": [
    {
     "data": {
      "text/html": [
       "<div>\n",
       "<style scoped>\n",
       "    .dataframe tbody tr th:only-of-type {\n",
       "        vertical-align: middle;\n",
       "    }\n",
       "\n",
       "    .dataframe tbody tr th {\n",
       "        vertical-align: top;\n",
       "    }\n",
       "\n",
       "    .dataframe thead th {\n",
       "        text-align: right;\n",
       "    }\n",
       "</style>\n",
       "<table border=\"1\" class=\"dataframe\">\n",
       "  <thead>\n",
       "    <tr style=\"text-align: right;\">\n",
       "      <th></th>\n",
       "      <th>record_key_number</th>\n",
       "      <th>reporting_agency</th>\n",
       "      <th>agency_number</th>\n",
       "      <th>agency_full_name</th>\n",
       "      <th>county</th>\n",
       "      <th>race</th>\n",
       "      <th>gender</th>\n",
       "      <th>age</th>\n",
       "      <th>custody_status</th>\n",
       "      <th>custody_offense</th>\n",
       "      <th>date_of_death_yyyy</th>\n",
       "      <th>date_of_death_mm</th>\n",
       "      <th>date_of_death_dd</th>\n",
       "      <th>custodial_responsibilty_at_time_of_death</th>\n",
       "      <th>location_where_cause_of_death_occurred</th>\n",
       "      <th>facility_of_death</th>\n",
       "      <th>manner_of_death</th>\n",
       "      <th>means_of_death</th>\n",
       "    </tr>\n",
       "  </thead>\n",
       "  <tbody>\n",
       "    <tr>\n",
       "      <th>0</th>\n",
       "      <td>2005001</td>\n",
       "      <td>State</td>\n",
       "      <td>27025C</td>\n",
       "      <td>Salinas Valley State Prison</td>\n",
       "      <td>Monterey</td>\n",
       "      <td>Other</td>\n",
       "      <td>Male</td>\n",
       "      <td>35</td>\n",
       "      <td>Sentenced</td>\n",
       "      <td>110</td>\n",
       "      <td>2005</td>\n",
       "      <td>1</td>\n",
       "      <td>3</td>\n",
       "      <td>CDC/CRC</td>\n",
       "      <td>Living</td>\n",
       "      <td>CDC/CRC</td>\n",
       "      <td>Suicide</td>\n",
       "      <td>Hanging,Strangulation</td>\n",
       "    </tr>\n",
       "  </tbody>\n",
       "</table>\n",
       "</div>"
      ],
      "text/plain": [
       "   record_key_number reporting_agency agency_number  \\\n",
       "0            2005001            State        27025C   \n",
       "\n",
       "              agency_full_name    county   race gender age custody_status  \\\n",
       "0  Salinas Valley State Prison  Monterey  Other   Male  35      Sentenced   \n",
       "\n",
       "   custody_offense  date_of_death_yyyy  date_of_death_mm  date_of_death_dd  \\\n",
       "0              110                2005                 1                 3   \n",
       "\n",
       "  custodial_responsibilty_at_time_of_death  \\\n",
       "0                                  CDC/CRC   \n",
       "\n",
       "  location_where_cause_of_death_occurred facility_of_death manner_of_death  \\\n",
       "0                                 Living           CDC/CRC         Suicide   \n",
       "\n",
       "          means_of_death  \n",
       "0  Hanging,Strangulation  "
      ]
     },
     "execution_count": 4,
     "metadata": {},
     "output_type": "execute_result"
    }
   ],
   "source": [
    "df.head(1)"
   ]
  },
  {
   "cell_type": "code",
   "execution_count": 7,
   "id": "fc7015a1",
   "metadata": {},
   "outputs": [
    {
     "data": {
      "text/html": [
       "<div>\n",
       "<style scoped>\n",
       "    .dataframe tbody tr th:only-of-type {\n",
       "        vertical-align: middle;\n",
       "    }\n",
       "\n",
       "    .dataframe tbody tr th {\n",
       "        vertical-align: top;\n",
       "    }\n",
       "\n",
       "    .dataframe thead th {\n",
       "        text-align: right;\n",
       "    }\n",
       "</style>\n",
       "<table border=\"1\" class=\"dataframe\">\n",
       "  <thead>\n",
       "    <tr style=\"text-align: right;\">\n",
       "      <th></th>\n",
       "      <th>record_key_number</th>\n",
       "      <th>reporting_agency</th>\n",
       "      <th>agency_number</th>\n",
       "      <th>agency_full_name</th>\n",
       "      <th>county</th>\n",
       "      <th>race</th>\n",
       "      <th>gender</th>\n",
       "      <th>age</th>\n",
       "      <th>custody_status</th>\n",
       "      <th>custody_offense</th>\n",
       "      <th>date_of_death_yyyy</th>\n",
       "      <th>date_of_death_mm</th>\n",
       "      <th>date_of_death_dd</th>\n",
       "      <th>custodial_responsibilty_at_time_of_death</th>\n",
       "      <th>location_where_cause_of_death_occurred</th>\n",
       "      <th>facility_of_death</th>\n",
       "      <th>manner_of_death</th>\n",
       "      <th>means_of_death</th>\n",
       "    </tr>\n",
       "  </thead>\n",
       "  <tbody>\n",
       "    <tr>\n",
       "      <th>7205</th>\n",
       "      <td>2015296</td>\n",
       "      <td>State</td>\n",
       "      <td>20045C</td>\n",
       "      <td>Valley State Prison</td>\n",
       "      <td>Madera</td>\n",
       "      <td>Hispanic</td>\n",
       "      <td>Male</td>\n",
       "      <td>58</td>\n",
       "      <td>Sentenced</td>\n",
       "      <td>700</td>\n",
       "      <td>2015</td>\n",
       "      <td>6</td>\n",
       "      <td>10</td>\n",
       "      <td>CDC/CRC</td>\n",
       "      <td>Not Applicable</td>\n",
       "      <td>Local Hospital</td>\n",
       "      <td>Natural</td>\n",
       "      <td>Not Applicable</td>\n",
       "    </tr>\n",
       "    <tr>\n",
       "      <th>660</th>\n",
       "      <td>2006015</td>\n",
       "      <td>State</td>\n",
       "      <td>27015C</td>\n",
       "      <td>Correctional Training Facility</td>\n",
       "      <td>Monterey</td>\n",
       "      <td>Korean</td>\n",
       "      <td>Male</td>\n",
       "      <td>58</td>\n",
       "      <td>Sentenced</td>\n",
       "      <td>100</td>\n",
       "      <td>2006</td>\n",
       "      <td>1</td>\n",
       "      <td>9</td>\n",
       "      <td>CDC/CRC</td>\n",
       "      <td>Living</td>\n",
       "      <td>CDC/CRC</td>\n",
       "      <td>Homicide Willful (Other Inmate)</td>\n",
       "      <td>Hands,Feet,Fists</td>\n",
       "    </tr>\n",
       "    <tr>\n",
       "      <th>199</th>\n",
       "      <td>2005200</td>\n",
       "      <td>State</td>\n",
       "      <td>16045C</td>\n",
       "      <td>California Substance Abuse Treatment Facility</td>\n",
       "      <td>Kings</td>\n",
       "      <td>White</td>\n",
       "      <td>Male</td>\n",
       "      <td>41</td>\n",
       "      <td>Sentenced</td>\n",
       "      <td>700</td>\n",
       "      <td>2005</td>\n",
       "      <td>6</td>\n",
       "      <td>20</td>\n",
       "      <td>CDC/CRC</td>\n",
       "      <td>Not Applicable</td>\n",
       "      <td>Local Hospital</td>\n",
       "      <td>Natural</td>\n",
       "      <td>Not Applicable</td>\n",
       "    </tr>\n",
       "    <tr>\n",
       "      <th>1390</th>\n",
       "      <td>2007015</td>\n",
       "      <td>State</td>\n",
       "      <td>19015M</td>\n",
       "      <td>Metropolitan State Hospital</td>\n",
       "      <td>Los Angeles</td>\n",
       "      <td>White</td>\n",
       "      <td>Male</td>\n",
       "      <td>68</td>\n",
       "      <td>Sentenced</td>\n",
       "      <td>0</td>\n",
       "      <td>2007</td>\n",
       "      <td>1</td>\n",
       "      <td>10</td>\n",
       "      <td>State Hospital</td>\n",
       "      <td>Living</td>\n",
       "      <td>State Hospital</td>\n",
       "      <td>Natural</td>\n",
       "      <td>Not Applicable</td>\n",
       "    </tr>\n",
       "    <tr>\n",
       "      <th>8078</th>\n",
       "      <td>2016397</td>\n",
       "      <td>State</td>\n",
       "      <td>40015C</td>\n",
       "      <td>California Men's Colony</td>\n",
       "      <td>San Luis Obispo</td>\n",
       "      <td>Black</td>\n",
       "      <td>Male</td>\n",
       "      <td>71</td>\n",
       "      <td>Sentenced</td>\n",
       "      <td>200</td>\n",
       "      <td>2016</td>\n",
       "      <td>8</td>\n",
       "      <td>30</td>\n",
       "      <td>CDC/CRC</td>\n",
       "      <td>Not Applicable</td>\n",
       "      <td>Local Hospital</td>\n",
       "      <td>Natural</td>\n",
       "      <td>Not Applicable</td>\n",
       "    </tr>\n",
       "  </tbody>\n",
       "</table>\n",
       "</div>"
      ],
      "text/plain": [
       "      record_key_number reporting_agency agency_number  \\\n",
       "7205            2015296            State        20045C   \n",
       "660             2006015            State        27015C   \n",
       "199             2005200            State        16045C   \n",
       "1390            2007015            State        19015M   \n",
       "8078            2016397            State        40015C   \n",
       "\n",
       "                                   agency_full_name           county  \\\n",
       "7205                            Valley State Prison           Madera   \n",
       "660                  Correctional Training Facility         Monterey   \n",
       "199   California Substance Abuse Treatment Facility            Kings   \n",
       "1390                    Metropolitan State Hospital      Los Angeles   \n",
       "8078                        California Men's Colony  San Luis Obispo   \n",
       "\n",
       "          race gender age custody_status  custody_offense  date_of_death_yyyy  \\\n",
       "7205  Hispanic   Male  58      Sentenced              700                2015   \n",
       "660     Korean   Male  58      Sentenced              100                2006   \n",
       "199      White   Male  41      Sentenced              700                2005   \n",
       "1390     White   Male  68      Sentenced                0                2007   \n",
       "8078     Black   Male  71      Sentenced              200                2016   \n",
       "\n",
       "      date_of_death_mm  date_of_death_dd  \\\n",
       "7205                 6                10   \n",
       "660                  1                 9   \n",
       "199                  6                20   \n",
       "1390                 1                10   \n",
       "8078                 8                30   \n",
       "\n",
       "     custodial_responsibilty_at_time_of_death  \\\n",
       "7205                                  CDC/CRC   \n",
       "660                                   CDC/CRC   \n",
       "199                                   CDC/CRC   \n",
       "1390                           State Hospital   \n",
       "8078                                  CDC/CRC   \n",
       "\n",
       "     location_where_cause_of_death_occurred facility_of_death  \\\n",
       "7205                         Not Applicable    Local Hospital   \n",
       "660                                  Living           CDC/CRC   \n",
       "199                          Not Applicable    Local Hospital   \n",
       "1390                                 Living    State Hospital   \n",
       "8078                         Not Applicable    Local Hospital   \n",
       "\n",
       "                      manner_of_death    means_of_death  \n",
       "7205                          Natural    Not Applicable  \n",
       "660   Homicide Willful (Other Inmate)  Hands,Feet,Fists  \n",
       "199                           Natural    Not Applicable  \n",
       "1390                          Natural    Not Applicable  \n",
       "8078                          Natural    Not Applicable  "
      ]
     },
     "execution_count": 7,
     "metadata": {},
     "output_type": "execute_result"
    }
   ],
   "source": [
    "df.sample(5)"
   ]
  },
  {
   "cell_type": "code",
   "execution_count": 8,
   "id": "7ddd30ac",
   "metadata": {},
   "outputs": [
    {
     "data": {
      "text/html": [
       "<div>\n",
       "<style scoped>\n",
       "    .dataframe tbody tr th:only-of-type {\n",
       "        vertical-align: middle;\n",
       "    }\n",
       "\n",
       "    .dataframe tbody tr th {\n",
       "        vertical-align: top;\n",
       "    }\n",
       "\n",
       "    .dataframe thead th {\n",
       "        text-align: right;\n",
       "    }\n",
       "</style>\n",
       "<table border=\"1\" class=\"dataframe\">\n",
       "  <thead>\n",
       "    <tr style=\"text-align: right;\">\n",
       "      <th></th>\n",
       "      <th>record_key_number</th>\n",
       "      <th>reporting_agency</th>\n",
       "      <th>agency_number</th>\n",
       "      <th>agency_full_name</th>\n",
       "      <th>county</th>\n",
       "      <th>race</th>\n",
       "      <th>gender</th>\n",
       "      <th>age</th>\n",
       "      <th>custody_status</th>\n",
       "      <th>custody_offense</th>\n",
       "      <th>date_of_death_yyyy</th>\n",
       "      <th>date_of_death_mm</th>\n",
       "      <th>date_of_death_dd</th>\n",
       "      <th>custodial_responsibilty_at_time_of_death</th>\n",
       "      <th>location_where_cause_of_death_occurred</th>\n",
       "      <th>facility_of_death</th>\n",
       "      <th>manner_of_death</th>\n",
       "      <th>means_of_death</th>\n",
       "    </tr>\n",
       "  </thead>\n",
       "  <tbody>\n",
       "    <tr>\n",
       "      <th>6650</th>\n",
       "      <td>2014429</td>\n",
       "      <td>State</td>\n",
       "      <td>99035C</td>\n",
       "      <td>CDCR/CBU/SACCO/WICC</td>\n",
       "      <td>Out-of-State</td>\n",
       "      <td>White</td>\n",
       "      <td>Male</td>\n",
       "      <td>65</td>\n",
       "      <td>Sentenced</td>\n",
       "      <td>100</td>\n",
       "      <td>2014</td>\n",
       "      <td>10</td>\n",
       "      <td>5</td>\n",
       "      <td>CDC/CRC</td>\n",
       "      <td>Not Applicable</td>\n",
       "      <td>Local Hospital</td>\n",
       "      <td>Natural</td>\n",
       "      <td>Not Applicable</td>\n",
       "    </tr>\n",
       "    <tr>\n",
       "      <th>1229</th>\n",
       "      <td>2006584</td>\n",
       "      <td>Sheriff</td>\n",
       "      <td>330000</td>\n",
       "      <td>Riverside County Sheriff's Department</td>\n",
       "      <td>Riverside</td>\n",
       "      <td>Hispanic</td>\n",
       "      <td>Male</td>\n",
       "      <td>48</td>\n",
       "      <td>Booked - No Charges Filed</td>\n",
       "      <td>800</td>\n",
       "      <td>2006</td>\n",
       "      <td>5</td>\n",
       "      <td>21</td>\n",
       "      <td>County Jail</td>\n",
       "      <td>Not Applicable</td>\n",
       "      <td>Local Hospital</td>\n",
       "      <td>Natural</td>\n",
       "      <td>Not Applicable</td>\n",
       "    </tr>\n",
       "    <tr>\n",
       "      <th>6906</th>\n",
       "      <td>2014685</td>\n",
       "      <td>Police</td>\n",
       "      <td>100500</td>\n",
       "      <td>Fresno Police Department</td>\n",
       "      <td>Fresno</td>\n",
       "      <td>Hispanic</td>\n",
       "      <td>Male</td>\n",
       "      <td>Unk</td>\n",
       "      <td>Process of Arrest</td>\n",
       "      <td>320</td>\n",
       "      <td>2014</td>\n",
       "      <td>6</td>\n",
       "      <td>11</td>\n",
       "      <td>Process of Arrest</td>\n",
       "      <td>Crime/Arrest Scene</td>\n",
       "      <td>Crime/Arrest Scene</td>\n",
       "      <td>Homicide Justified (Law Enforcement Staff)</td>\n",
       "      <td>Handgun</td>\n",
       "    </tr>\n",
       "    <tr>\n",
       "      <th>5352</th>\n",
       "      <td>2012581</td>\n",
       "      <td>State</td>\n",
       "      <td>48015C</td>\n",
       "      <td>California Medical Facility</td>\n",
       "      <td>Solano</td>\n",
       "      <td>Black</td>\n",
       "      <td>Male</td>\n",
       "      <td>49</td>\n",
       "      <td>Sentenced</td>\n",
       "      <td>100</td>\n",
       "      <td>2012</td>\n",
       "      <td>12</td>\n",
       "      <td>17</td>\n",
       "      <td>CDC/CRC</td>\n",
       "      <td>Not Applicable</td>\n",
       "      <td>CDC/CRC</td>\n",
       "      <td>Natural</td>\n",
       "      <td>Not Applicable</td>\n",
       "    </tr>\n",
       "    <tr>\n",
       "      <th>4516</th>\n",
       "      <td>2011443</td>\n",
       "      <td>Sheriff</td>\n",
       "      <td>360000</td>\n",
       "      <td>San Bernardino County Sheriff's Department</td>\n",
       "      <td>San Bernardino</td>\n",
       "      <td>White</td>\n",
       "      <td>Female</td>\n",
       "      <td>58</td>\n",
       "      <td>Booked - Awaiting Trial</td>\n",
       "      <td>323</td>\n",
       "      <td>2011</td>\n",
       "      <td>10</td>\n",
       "      <td>13</td>\n",
       "      <td>County Jail</td>\n",
       "      <td>Medical Treatment</td>\n",
       "      <td>Local Hospital</td>\n",
       "      <td>Natural</td>\n",
       "      <td>Not Applicable</td>\n",
       "    </tr>\n",
       "    <tr>\n",
       "      <th>...</th>\n",
       "      <td>...</td>\n",
       "      <td>...</td>\n",
       "      <td>...</td>\n",
       "      <td>...</td>\n",
       "      <td>...</td>\n",
       "      <td>...</td>\n",
       "      <td>...</td>\n",
       "      <td>...</td>\n",
       "      <td>...</td>\n",
       "      <td>...</td>\n",
       "      <td>...</td>\n",
       "      <td>...</td>\n",
       "      <td>...</td>\n",
       "      <td>...</td>\n",
       "      <td>...</td>\n",
       "      <td>...</td>\n",
       "      <td>...</td>\n",
       "      <td>...</td>\n",
       "    </tr>\n",
       "    <tr>\n",
       "      <th>976</th>\n",
       "      <td>2006331</td>\n",
       "      <td>State</td>\n",
       "      <td>03035C</td>\n",
       "      <td>Mule Creek State Prison</td>\n",
       "      <td>Amador</td>\n",
       "      <td>White</td>\n",
       "      <td>Male</td>\n",
       "      <td>51</td>\n",
       "      <td>Sentenced</td>\n",
       "      <td>712</td>\n",
       "      <td>2006</td>\n",
       "      <td>7</td>\n",
       "      <td>22</td>\n",
       "      <td>CDC/CRC</td>\n",
       "      <td>Not Applicable</td>\n",
       "      <td>Local Hospital</td>\n",
       "      <td>Natural</td>\n",
       "      <td>Not Applicable</td>\n",
       "    </tr>\n",
       "    <tr>\n",
       "      <th>5077</th>\n",
       "      <td>2012306</td>\n",
       "      <td>Police</td>\n",
       "      <td>360300</td>\n",
       "      <td>Colton Police Department</td>\n",
       "      <td>San Bernardino</td>\n",
       "      <td>Black</td>\n",
       "      <td>Male</td>\n",
       "      <td>27</td>\n",
       "      <td>Process of Arrest</td>\n",
       "      <td>323</td>\n",
       "      <td>2012</td>\n",
       "      <td>7</td>\n",
       "      <td>11</td>\n",
       "      <td>Process of Arrest</td>\n",
       "      <td>Crime/Arrest Scene</td>\n",
       "      <td>Crime/Arrest Scene</td>\n",
       "      <td>Homicide Justified (Law Enforcement Staff)</td>\n",
       "      <td>Handgun</td>\n",
       "    </tr>\n",
       "    <tr>\n",
       "      <th>103</th>\n",
       "      <td>2005104</td>\n",
       "      <td>State</td>\n",
       "      <td>08015C</td>\n",
       "      <td>Pelican Bay State Prison</td>\n",
       "      <td>Del Norte</td>\n",
       "      <td>White</td>\n",
       "      <td>Male</td>\n",
       "      <td>54</td>\n",
       "      <td>Sentenced</td>\n",
       "      <td>825</td>\n",
       "      <td>2005</td>\n",
       "      <td>4</td>\n",
       "      <td>1</td>\n",
       "      <td>CDC/CRC</td>\n",
       "      <td>Not Applicable</td>\n",
       "      <td>CDC/CRC</td>\n",
       "      <td>Natural</td>\n",
       "      <td>Not Applicable</td>\n",
       "    </tr>\n",
       "    <tr>\n",
       "      <th>7924</th>\n",
       "      <td>2016243</td>\n",
       "      <td>State</td>\n",
       "      <td>48015C</td>\n",
       "      <td>California Medical Facility</td>\n",
       "      <td>Solano</td>\n",
       "      <td>Black</td>\n",
       "      <td>Male</td>\n",
       "      <td>53</td>\n",
       "      <td>Sentenced</td>\n",
       "      <td>120</td>\n",
       "      <td>2016</td>\n",
       "      <td>5</td>\n",
       "      <td>28</td>\n",
       "      <td>CDC/CRC</td>\n",
       "      <td>Not Applicable</td>\n",
       "      <td>CDC/CRC</td>\n",
       "      <td>Natural</td>\n",
       "      <td>Not Applicable</td>\n",
       "    </tr>\n",
       "    <tr>\n",
       "      <th>3943</th>\n",
       "      <td>2010575</td>\n",
       "      <td>Sheriff</td>\n",
       "      <td>340000</td>\n",
       "      <td>Sacramento County Sheriff's Department</td>\n",
       "      <td>Sacramento</td>\n",
       "      <td>Black</td>\n",
       "      <td>Male</td>\n",
       "      <td>46</td>\n",
       "      <td>Booked - Awaiting Trial</td>\n",
       "      <td>400</td>\n",
       "      <td>2010</td>\n",
       "      <td>12</td>\n",
       "      <td>12</td>\n",
       "      <td>County Jail</td>\n",
       "      <td>Living</td>\n",
       "      <td>County Jail</td>\n",
       "      <td>Natural</td>\n",
       "      <td>Not Applicable</td>\n",
       "    </tr>\n",
       "  </tbody>\n",
       "</table>\n",
       "<p>4187 rows × 18 columns</p>\n",
       "</div>"
      ],
      "text/plain": [
       "      record_key_number reporting_agency agency_number  \\\n",
       "6650            2014429            State        99035C   \n",
       "1229            2006584          Sheriff        330000   \n",
       "6906            2014685           Police        100500   \n",
       "5352            2012581            State        48015C   \n",
       "4516            2011443          Sheriff        360000   \n",
       "...                 ...              ...           ...   \n",
       "976             2006331            State        03035C   \n",
       "5077            2012306           Police        360300   \n",
       "103             2005104            State        08015C   \n",
       "7924            2016243            State        48015C   \n",
       "3943            2010575          Sheriff        340000   \n",
       "\n",
       "                                agency_full_name          county      race  \\\n",
       "6650                         CDCR/CBU/SACCO/WICC    Out-of-State     White   \n",
       "1229       Riverside County Sheriff's Department       Riverside  Hispanic   \n",
       "6906                    Fresno Police Department          Fresno  Hispanic   \n",
       "5352                 California Medical Facility          Solano     Black   \n",
       "4516  San Bernardino County Sheriff's Department  San Bernardino     White   \n",
       "...                                          ...             ...       ...   \n",
       "976                      Mule Creek State Prison          Amador     White   \n",
       "5077                    Colton Police Department  San Bernardino     Black   \n",
       "103                     Pelican Bay State Prison       Del Norte     White   \n",
       "7924                 California Medical Facility          Solano     Black   \n",
       "3943      Sacramento County Sheriff's Department      Sacramento     Black   \n",
       "\n",
       "      gender  age             custody_status  custody_offense  \\\n",
       "6650    Male   65                  Sentenced              100   \n",
       "1229    Male   48  Booked - No Charges Filed              800   \n",
       "6906    Male  Unk          Process of Arrest              320   \n",
       "5352    Male   49                  Sentenced              100   \n",
       "4516  Female   58    Booked - Awaiting Trial              323   \n",
       "...      ...  ...                        ...              ...   \n",
       "976     Male   51                  Sentenced              712   \n",
       "5077    Male   27          Process of Arrest              323   \n",
       "103     Male   54                  Sentenced              825   \n",
       "7924    Male   53                  Sentenced              120   \n",
       "3943    Male   46    Booked - Awaiting Trial              400   \n",
       "\n",
       "      date_of_death_yyyy  date_of_death_mm  date_of_death_dd  \\\n",
       "6650                2014                10                 5   \n",
       "1229                2006                 5                21   \n",
       "6906                2014                 6                11   \n",
       "5352                2012                12                17   \n",
       "4516                2011                10                13   \n",
       "...                  ...               ...               ...   \n",
       "976                 2006                 7                22   \n",
       "5077                2012                 7                11   \n",
       "103                 2005                 4                 1   \n",
       "7924                2016                 5                28   \n",
       "3943                2010                12                12   \n",
       "\n",
       "     custodial_responsibilty_at_time_of_death  \\\n",
       "6650                                  CDC/CRC   \n",
       "1229                              County Jail   \n",
       "6906                        Process of Arrest   \n",
       "5352                                  CDC/CRC   \n",
       "4516                              County Jail   \n",
       "...                                       ...   \n",
       "976                                   CDC/CRC   \n",
       "5077                        Process of Arrest   \n",
       "103                                   CDC/CRC   \n",
       "7924                                  CDC/CRC   \n",
       "3943                              County Jail   \n",
       "\n",
       "     location_where_cause_of_death_occurred   facility_of_death  \\\n",
       "6650                         Not Applicable      Local Hospital   \n",
       "1229                         Not Applicable      Local Hospital   \n",
       "6906                     Crime/Arrest Scene  Crime/Arrest Scene   \n",
       "5352                         Not Applicable             CDC/CRC   \n",
       "4516                      Medical Treatment      Local Hospital   \n",
       "...                                     ...                 ...   \n",
       "976                          Not Applicable      Local Hospital   \n",
       "5077                     Crime/Arrest Scene  Crime/Arrest Scene   \n",
       "103                          Not Applicable             CDC/CRC   \n",
       "7924                         Not Applicable             CDC/CRC   \n",
       "3943                                 Living         County Jail   \n",
       "\n",
       "                                 manner_of_death  means_of_death  \n",
       "6650                                     Natural  Not Applicable  \n",
       "1229                                     Natural  Not Applicable  \n",
       "6906  Homicide Justified (Law Enforcement Staff)         Handgun  \n",
       "5352                                     Natural  Not Applicable  \n",
       "4516                                     Natural  Not Applicable  \n",
       "...                                          ...             ...  \n",
       "976                                      Natural  Not Applicable  \n",
       "5077  Homicide Justified (Law Enforcement Staff)         Handgun  \n",
       "103                                      Natural  Not Applicable  \n",
       "7924                                     Natural  Not Applicable  \n",
       "3943                                     Natural  Not Applicable  \n",
       "\n",
       "[4187 rows x 18 columns]"
      ]
     },
     "execution_count": 8,
     "metadata": {},
     "output_type": "execute_result"
    }
   ],
   "source": [
    "df.sample(4187)"
   ]
  },
  {
   "cell_type": "code",
   "execution_count": 9,
   "id": "8a63fc62",
   "metadata": {},
   "outputs": [],
   "source": [
    "sample = df.sample(4187)"
   ]
  },
  {
   "cell_type": "code",
   "execution_count": 10,
   "id": "90989707",
   "metadata": {},
   "outputs": [],
   "source": [
    "sample.groupby(['gender', 'manner_of_death']).size().to_csv('rand-sample.csv')"
   ]
  },
  {
   "cell_type": "code",
   "execution_count": 11,
   "id": "96c730b5",
   "metadata": {},
   "outputs": [
    {
     "ename": "AttributeError",
     "evalue": "'DataFrameGroupBy' object has no attribute 'to_csv'",
     "output_type": "error",
     "traceback": [
      "\u001b[1;31m---------------------------------------------------------------------------\u001b[0m",
      "\u001b[1;31mAttributeError\u001b[0m                            Traceback (most recent call last)",
      "Input \u001b[1;32mIn [11]\u001b[0m, in \u001b[0;36m<cell line: 1>\u001b[1;34m()\u001b[0m\n\u001b[1;32m----> 1\u001b[0m \u001b[43msample\u001b[49m\u001b[38;5;241;43m.\u001b[39;49m\u001b[43mgroupby\u001b[49m\u001b[43m(\u001b[49m\u001b[43m[\u001b[49m\u001b[38;5;124;43m'\u001b[39;49m\u001b[38;5;124;43mgender\u001b[39;49m\u001b[38;5;124;43m'\u001b[39;49m\u001b[43m,\u001b[49m\u001b[43m \u001b[49m\u001b[38;5;124;43m'\u001b[39;49m\u001b[38;5;124;43mmanner_of_death\u001b[39;49m\u001b[38;5;124;43m'\u001b[39;49m\u001b[43m]\u001b[49m\u001b[43m)\u001b[49m\u001b[38;5;241;43m.\u001b[39;49m\u001b[43mto_csv\u001b[49m(\u001b[38;5;124m'\u001b[39m\u001b[38;5;124mrand-sample-raw.csv\u001b[39m\u001b[38;5;124m'\u001b[39m)\n",
      "File \u001b[1;32m~\\AppData\\Local\\Programs\\Python\\Python310\\lib\\site-packages\\pandas\\core\\groupby\\groupby.py:904\u001b[0m, in \u001b[0;36mGroupBy.__getattr__\u001b[1;34m(self, attr)\u001b[0m\n\u001b[0;32m    901\u001b[0m \u001b[38;5;28;01mif\u001b[39;00m attr \u001b[38;5;129;01min\u001b[39;00m \u001b[38;5;28mself\u001b[39m\u001b[38;5;241m.\u001b[39mobj:\n\u001b[0;32m    902\u001b[0m     \u001b[38;5;28;01mreturn\u001b[39;00m \u001b[38;5;28mself\u001b[39m[attr]\n\u001b[1;32m--> 904\u001b[0m \u001b[38;5;28;01mraise\u001b[39;00m \u001b[38;5;167;01mAttributeError\u001b[39;00m(\n\u001b[0;32m    905\u001b[0m     \u001b[38;5;124mf\u001b[39m\u001b[38;5;124m\"\u001b[39m\u001b[38;5;124m'\u001b[39m\u001b[38;5;132;01m{\u001b[39;00m\u001b[38;5;28mtype\u001b[39m(\u001b[38;5;28mself\u001b[39m)\u001b[38;5;241m.\u001b[39m\u001b[38;5;18m__name__\u001b[39m\u001b[38;5;132;01m}\u001b[39;00m\u001b[38;5;124m'\u001b[39m\u001b[38;5;124m object has no attribute \u001b[39m\u001b[38;5;124m'\u001b[39m\u001b[38;5;132;01m{\u001b[39;00mattr\u001b[38;5;132;01m}\u001b[39;00m\u001b[38;5;124m'\u001b[39m\u001b[38;5;124m\"\u001b[39m\n\u001b[0;32m    906\u001b[0m )\n",
      "\u001b[1;31mAttributeError\u001b[0m: 'DataFrameGroupBy' object has no attribute 'to_csv'"
     ]
    }
   ],
   "source": [
    "sample.groupby(['gender', 'manner_of_death']).to_csv('rand-sample-raw.csv')"
   ]
  },
  {
   "cell_type": "code",
   "execution_count": 12,
   "id": "62cde9cf",
   "metadata": {},
   "outputs": [],
   "source": [
    "sample[['gender', 'manner_of_death']].to_csv('rand-sample-raw.csv')"
   ]
  },
  {
   "cell_type": "code",
   "execution_count": 13,
   "id": "8a04c375",
   "metadata": {},
   "outputs": [],
   "source": [
    "sampleDf = pd.read_csv(\"csv/rand-sample-raw.csv\")"
   ]
  },
  {
   "cell_type": "code",
   "execution_count": 14,
   "id": "2bb9a787",
   "metadata": {},
   "outputs": [
    {
     "name": "stderr",
     "output_type": "stream",
     "text": [
      "C:\\Users\\Marcus J. Anderson\\AppData\\Local\\Temp\\ipykernel_9696\\3821339837.py:1: FutureWarning: Dropping of nuisance columns in DataFrame reductions (with 'numeric_only=None') is deprecated; in a future version this will raise TypeError.  Select only valid columns before calling the reduction.\n",
      "  sampleDf.mean()\n"
     ]
    },
    {
     "data": {
      "text/plain": [
       "gender    0.05541\n",
       "dtype: float64"
      ]
     },
     "execution_count": 14,
     "metadata": {},
     "output_type": "execute_result"
    }
   ],
   "source": [
    "sampleDf.mean()"
   ]
  },
  {
   "cell_type": "code",
   "execution_count": 15,
   "id": "20285060",
   "metadata": {},
   "outputs": [
    {
     "name": "stderr",
     "output_type": "stream",
     "text": [
      "C:\\Users\\Marcus J. Anderson\\AppData\\Local\\Temp\\ipykernel_9696\\917480213.py:1: FutureWarning: Dropping of nuisance columns in DataFrame reductions (with 'numeric_only=None') is deprecated; in a future version this will raise TypeError.  Select only valid columns before calling the reduction.\n",
      "  sampleDf.median()\n"
     ]
    },
    {
     "data": {
      "text/plain": [
       "gender    0.0\n",
       "dtype: float64"
      ]
     },
     "execution_count": 15,
     "metadata": {},
     "output_type": "execute_result"
    }
   ],
   "source": [
    "sampleDf.median()"
   ]
  },
  {
   "cell_type": "code",
   "execution_count": 16,
   "id": "9e2bff9d",
   "metadata": {},
   "outputs": [
    {
     "data": {
      "text/html": [
       "<div>\n",
       "<style scoped>\n",
       "    .dataframe tbody tr th:only-of-type {\n",
       "        vertical-align: middle;\n",
       "    }\n",
       "\n",
       "    .dataframe tbody tr th {\n",
       "        vertical-align: top;\n",
       "    }\n",
       "\n",
       "    .dataframe thead th {\n",
       "        text-align: right;\n",
       "    }\n",
       "</style>\n",
       "<table border=\"1\" class=\"dataframe\">\n",
       "  <thead>\n",
       "    <tr style=\"text-align: right;\">\n",
       "      <th></th>\n",
       "      <th>gender</th>\n",
       "      <th>manner_of_death</th>\n",
       "    </tr>\n",
       "  </thead>\n",
       "  <tbody>\n",
       "    <tr>\n",
       "      <th>0</th>\n",
       "      <td>0</td>\n",
       "      <td>Natural</td>\n",
       "    </tr>\n",
       "  </tbody>\n",
       "</table>\n",
       "</div>"
      ],
      "text/plain": [
       "   gender manner_of_death\n",
       "0       0         Natural"
      ]
     },
     "execution_count": 16,
     "metadata": {},
     "output_type": "execute_result"
    }
   ],
   "source": [
    "sampleDf.mode()"
   ]
  },
  {
   "cell_type": "code",
   "execution_count": 19,
   "id": "80976255",
   "metadata": {},
   "outputs": [
    {
     "ename": "FileNotFoundError",
     "evalue": "[Errno 2] No such file or directory: 'temp-original-data.csv'",
     "output_type": "error",
     "traceback": [
      "\u001b[1;31m---------------------------------------------------------------------------\u001b[0m",
      "\u001b[1;31mFileNotFoundError\u001b[0m                         Traceback (most recent call last)",
      "Input \u001b[1;32mIn [19]\u001b[0m, in \u001b[0;36m<cell line: 1>\u001b[1;34m()\u001b[0m\n\u001b[1;32m----> 1\u001b[0m originalDf \u001b[38;5;241m=\u001b[39m \u001b[43mpd\u001b[49m\u001b[38;5;241;43m.\u001b[39;49m\u001b[43mread_csv\u001b[49m\u001b[43m(\u001b[49m\u001b[38;5;124;43m\"\u001b[39;49m\u001b[38;5;124;43mtemp-original-data.csv\u001b[39;49m\u001b[38;5;124;43m\"\u001b[39;49m\u001b[43m)\u001b[49m\n",
      "File \u001b[1;32m~\\AppData\\Local\\Programs\\Python\\Python310\\lib\\site-packages\\pandas\\util\\_decorators.py:311\u001b[0m, in \u001b[0;36mdeprecate_nonkeyword_arguments.<locals>.decorate.<locals>.wrapper\u001b[1;34m(*args, **kwargs)\u001b[0m\n\u001b[0;32m    305\u001b[0m \u001b[38;5;28;01mif\u001b[39;00m \u001b[38;5;28mlen\u001b[39m(args) \u001b[38;5;241m>\u001b[39m num_allow_args:\n\u001b[0;32m    306\u001b[0m     warnings\u001b[38;5;241m.\u001b[39mwarn(\n\u001b[0;32m    307\u001b[0m         msg\u001b[38;5;241m.\u001b[39mformat(arguments\u001b[38;5;241m=\u001b[39marguments),\n\u001b[0;32m    308\u001b[0m         \u001b[38;5;167;01mFutureWarning\u001b[39;00m,\n\u001b[0;32m    309\u001b[0m         stacklevel\u001b[38;5;241m=\u001b[39mstacklevel,\n\u001b[0;32m    310\u001b[0m     )\n\u001b[1;32m--> 311\u001b[0m \u001b[38;5;28;01mreturn\u001b[39;00m func(\u001b[38;5;241m*\u001b[39margs, \u001b[38;5;241m*\u001b[39m\u001b[38;5;241m*\u001b[39mkwargs)\n",
      "File \u001b[1;32m~\\AppData\\Local\\Programs\\Python\\Python310\\lib\\site-packages\\pandas\\io\\parsers\\readers.py:680\u001b[0m, in \u001b[0;36mread_csv\u001b[1;34m(filepath_or_buffer, sep, delimiter, header, names, index_col, usecols, squeeze, prefix, mangle_dupe_cols, dtype, engine, converters, true_values, false_values, skipinitialspace, skiprows, skipfooter, nrows, na_values, keep_default_na, na_filter, verbose, skip_blank_lines, parse_dates, infer_datetime_format, keep_date_col, date_parser, dayfirst, cache_dates, iterator, chunksize, compression, thousands, decimal, lineterminator, quotechar, quoting, doublequote, escapechar, comment, encoding, encoding_errors, dialect, error_bad_lines, warn_bad_lines, on_bad_lines, delim_whitespace, low_memory, memory_map, float_precision, storage_options)\u001b[0m\n\u001b[0;32m    665\u001b[0m kwds_defaults \u001b[38;5;241m=\u001b[39m _refine_defaults_read(\n\u001b[0;32m    666\u001b[0m     dialect,\n\u001b[0;32m    667\u001b[0m     delimiter,\n\u001b[1;32m   (...)\u001b[0m\n\u001b[0;32m    676\u001b[0m     defaults\u001b[38;5;241m=\u001b[39m{\u001b[38;5;124m\"\u001b[39m\u001b[38;5;124mdelimiter\u001b[39m\u001b[38;5;124m\"\u001b[39m: \u001b[38;5;124m\"\u001b[39m\u001b[38;5;124m,\u001b[39m\u001b[38;5;124m\"\u001b[39m},\n\u001b[0;32m    677\u001b[0m )\n\u001b[0;32m    678\u001b[0m kwds\u001b[38;5;241m.\u001b[39mupdate(kwds_defaults)\n\u001b[1;32m--> 680\u001b[0m \u001b[38;5;28;01mreturn\u001b[39;00m \u001b[43m_read\u001b[49m\u001b[43m(\u001b[49m\u001b[43mfilepath_or_buffer\u001b[49m\u001b[43m,\u001b[49m\u001b[43m \u001b[49m\u001b[43mkwds\u001b[49m\u001b[43m)\u001b[49m\n",
      "File \u001b[1;32m~\\AppData\\Local\\Programs\\Python\\Python310\\lib\\site-packages\\pandas\\io\\parsers\\readers.py:575\u001b[0m, in \u001b[0;36m_read\u001b[1;34m(filepath_or_buffer, kwds)\u001b[0m\n\u001b[0;32m    572\u001b[0m _validate_names(kwds\u001b[38;5;241m.\u001b[39mget(\u001b[38;5;124m\"\u001b[39m\u001b[38;5;124mnames\u001b[39m\u001b[38;5;124m\"\u001b[39m, \u001b[38;5;28;01mNone\u001b[39;00m))\n\u001b[0;32m    574\u001b[0m \u001b[38;5;66;03m# Create the parser.\u001b[39;00m\n\u001b[1;32m--> 575\u001b[0m parser \u001b[38;5;241m=\u001b[39m TextFileReader(filepath_or_buffer, \u001b[38;5;241m*\u001b[39m\u001b[38;5;241m*\u001b[39mkwds)\n\u001b[0;32m    577\u001b[0m \u001b[38;5;28;01mif\u001b[39;00m chunksize \u001b[38;5;129;01mor\u001b[39;00m iterator:\n\u001b[0;32m    578\u001b[0m     \u001b[38;5;28;01mreturn\u001b[39;00m parser\n",
      "File \u001b[1;32m~\\AppData\\Local\\Programs\\Python\\Python310\\lib\\site-packages\\pandas\\io\\parsers\\readers.py:933\u001b[0m, in \u001b[0;36mTextFileReader.__init__\u001b[1;34m(self, f, engine, **kwds)\u001b[0m\n\u001b[0;32m    930\u001b[0m     \u001b[38;5;28mself\u001b[39m\u001b[38;5;241m.\u001b[39moptions[\u001b[38;5;124m\"\u001b[39m\u001b[38;5;124mhas_index_names\u001b[39m\u001b[38;5;124m\"\u001b[39m] \u001b[38;5;241m=\u001b[39m kwds[\u001b[38;5;124m\"\u001b[39m\u001b[38;5;124mhas_index_names\u001b[39m\u001b[38;5;124m\"\u001b[39m]\n\u001b[0;32m    932\u001b[0m \u001b[38;5;28mself\u001b[39m\u001b[38;5;241m.\u001b[39mhandles: IOHandles \u001b[38;5;241m|\u001b[39m \u001b[38;5;28;01mNone\u001b[39;00m \u001b[38;5;241m=\u001b[39m \u001b[38;5;28;01mNone\u001b[39;00m\n\u001b[1;32m--> 933\u001b[0m \u001b[38;5;28mself\u001b[39m\u001b[38;5;241m.\u001b[39m_engine \u001b[38;5;241m=\u001b[39m \u001b[38;5;28;43mself\u001b[39;49m\u001b[38;5;241;43m.\u001b[39;49m\u001b[43m_make_engine\u001b[49m\u001b[43m(\u001b[49m\u001b[43mf\u001b[49m\u001b[43m,\u001b[49m\u001b[43m \u001b[49m\u001b[38;5;28;43mself\u001b[39;49m\u001b[38;5;241;43m.\u001b[39;49m\u001b[43mengine\u001b[49m\u001b[43m)\u001b[49m\n",
      "File \u001b[1;32m~\\AppData\\Local\\Programs\\Python\\Python310\\lib\\site-packages\\pandas\\io\\parsers\\readers.py:1217\u001b[0m, in \u001b[0;36mTextFileReader._make_engine\u001b[1;34m(self, f, engine)\u001b[0m\n\u001b[0;32m   1213\u001b[0m     mode \u001b[38;5;241m=\u001b[39m \u001b[38;5;124m\"\u001b[39m\u001b[38;5;124mrb\u001b[39m\u001b[38;5;124m\"\u001b[39m\n\u001b[0;32m   1214\u001b[0m \u001b[38;5;66;03m# error: No overload variant of \"get_handle\" matches argument types\u001b[39;00m\n\u001b[0;32m   1215\u001b[0m \u001b[38;5;66;03m# \"Union[str, PathLike[str], ReadCsvBuffer[bytes], ReadCsvBuffer[str]]\"\u001b[39;00m\n\u001b[0;32m   1216\u001b[0m \u001b[38;5;66;03m# , \"str\", \"bool\", \"Any\", \"Any\", \"Any\", \"Any\", \"Any\"\u001b[39;00m\n\u001b[1;32m-> 1217\u001b[0m \u001b[38;5;28mself\u001b[39m\u001b[38;5;241m.\u001b[39mhandles \u001b[38;5;241m=\u001b[39m \u001b[43mget_handle\u001b[49m\u001b[43m(\u001b[49m\u001b[43m  \u001b[49m\u001b[38;5;66;43;03m# type: ignore[call-overload]\u001b[39;49;00m\n\u001b[0;32m   1218\u001b[0m \u001b[43m    \u001b[49m\u001b[43mf\u001b[49m\u001b[43m,\u001b[49m\n\u001b[0;32m   1219\u001b[0m \u001b[43m    \u001b[49m\u001b[43mmode\u001b[49m\u001b[43m,\u001b[49m\n\u001b[0;32m   1220\u001b[0m \u001b[43m    \u001b[49m\u001b[43mencoding\u001b[49m\u001b[38;5;241;43m=\u001b[39;49m\u001b[38;5;28;43mself\u001b[39;49m\u001b[38;5;241;43m.\u001b[39;49m\u001b[43moptions\u001b[49m\u001b[38;5;241;43m.\u001b[39;49m\u001b[43mget\u001b[49m\u001b[43m(\u001b[49m\u001b[38;5;124;43m\"\u001b[39;49m\u001b[38;5;124;43mencoding\u001b[39;49m\u001b[38;5;124;43m\"\u001b[39;49m\u001b[43m,\u001b[49m\u001b[43m \u001b[49m\u001b[38;5;28;43;01mNone\u001b[39;49;00m\u001b[43m)\u001b[49m\u001b[43m,\u001b[49m\n\u001b[0;32m   1221\u001b[0m \u001b[43m    \u001b[49m\u001b[43mcompression\u001b[49m\u001b[38;5;241;43m=\u001b[39;49m\u001b[38;5;28;43mself\u001b[39;49m\u001b[38;5;241;43m.\u001b[39;49m\u001b[43moptions\u001b[49m\u001b[38;5;241;43m.\u001b[39;49m\u001b[43mget\u001b[49m\u001b[43m(\u001b[49m\u001b[38;5;124;43m\"\u001b[39;49m\u001b[38;5;124;43mcompression\u001b[39;49m\u001b[38;5;124;43m\"\u001b[39;49m\u001b[43m,\u001b[49m\u001b[43m \u001b[49m\u001b[38;5;28;43;01mNone\u001b[39;49;00m\u001b[43m)\u001b[49m\u001b[43m,\u001b[49m\n\u001b[0;32m   1222\u001b[0m \u001b[43m    \u001b[49m\u001b[43mmemory_map\u001b[49m\u001b[38;5;241;43m=\u001b[39;49m\u001b[38;5;28;43mself\u001b[39;49m\u001b[38;5;241;43m.\u001b[39;49m\u001b[43moptions\u001b[49m\u001b[38;5;241;43m.\u001b[39;49m\u001b[43mget\u001b[49m\u001b[43m(\u001b[49m\u001b[38;5;124;43m\"\u001b[39;49m\u001b[38;5;124;43mmemory_map\u001b[39;49m\u001b[38;5;124;43m\"\u001b[39;49m\u001b[43m,\u001b[49m\u001b[43m \u001b[49m\u001b[38;5;28;43;01mFalse\u001b[39;49;00m\u001b[43m)\u001b[49m\u001b[43m,\u001b[49m\n\u001b[0;32m   1223\u001b[0m \u001b[43m    \u001b[49m\u001b[43mis_text\u001b[49m\u001b[38;5;241;43m=\u001b[39;49m\u001b[43mis_text\u001b[49m\u001b[43m,\u001b[49m\n\u001b[0;32m   1224\u001b[0m \u001b[43m    \u001b[49m\u001b[43merrors\u001b[49m\u001b[38;5;241;43m=\u001b[39;49m\u001b[38;5;28;43mself\u001b[39;49m\u001b[38;5;241;43m.\u001b[39;49m\u001b[43moptions\u001b[49m\u001b[38;5;241;43m.\u001b[39;49m\u001b[43mget\u001b[49m\u001b[43m(\u001b[49m\u001b[38;5;124;43m\"\u001b[39;49m\u001b[38;5;124;43mencoding_errors\u001b[39;49m\u001b[38;5;124;43m\"\u001b[39;49m\u001b[43m,\u001b[49m\u001b[43m \u001b[49m\u001b[38;5;124;43m\"\u001b[39;49m\u001b[38;5;124;43mstrict\u001b[39;49m\u001b[38;5;124;43m\"\u001b[39;49m\u001b[43m)\u001b[49m\u001b[43m,\u001b[49m\n\u001b[0;32m   1225\u001b[0m \u001b[43m    \u001b[49m\u001b[43mstorage_options\u001b[49m\u001b[38;5;241;43m=\u001b[39;49m\u001b[38;5;28;43mself\u001b[39;49m\u001b[38;5;241;43m.\u001b[39;49m\u001b[43moptions\u001b[49m\u001b[38;5;241;43m.\u001b[39;49m\u001b[43mget\u001b[49m\u001b[43m(\u001b[49m\u001b[38;5;124;43m\"\u001b[39;49m\u001b[38;5;124;43mstorage_options\u001b[39;49m\u001b[38;5;124;43m\"\u001b[39;49m\u001b[43m,\u001b[49m\u001b[43m \u001b[49m\u001b[38;5;28;43;01mNone\u001b[39;49;00m\u001b[43m)\u001b[49m\u001b[43m,\u001b[49m\n\u001b[0;32m   1226\u001b[0m \u001b[43m\u001b[49m\u001b[43m)\u001b[49m\n\u001b[0;32m   1227\u001b[0m \u001b[38;5;28;01massert\u001b[39;00m \u001b[38;5;28mself\u001b[39m\u001b[38;5;241m.\u001b[39mhandles \u001b[38;5;129;01mis\u001b[39;00m \u001b[38;5;129;01mnot\u001b[39;00m \u001b[38;5;28;01mNone\u001b[39;00m\n\u001b[0;32m   1228\u001b[0m f \u001b[38;5;241m=\u001b[39m \u001b[38;5;28mself\u001b[39m\u001b[38;5;241m.\u001b[39mhandles\u001b[38;5;241m.\u001b[39mhandle\n",
      "File \u001b[1;32m~\\AppData\\Local\\Programs\\Python\\Python310\\lib\\site-packages\\pandas\\io\\common.py:789\u001b[0m, in \u001b[0;36mget_handle\u001b[1;34m(path_or_buf, mode, encoding, compression, memory_map, is_text, errors, storage_options)\u001b[0m\n\u001b[0;32m    784\u001b[0m \u001b[38;5;28;01melif\u001b[39;00m \u001b[38;5;28misinstance\u001b[39m(handle, \u001b[38;5;28mstr\u001b[39m):\n\u001b[0;32m    785\u001b[0m     \u001b[38;5;66;03m# Check whether the filename is to be opened in binary mode.\u001b[39;00m\n\u001b[0;32m    786\u001b[0m     \u001b[38;5;66;03m# Binary mode does not support 'encoding' and 'newline'.\u001b[39;00m\n\u001b[0;32m    787\u001b[0m     \u001b[38;5;28;01mif\u001b[39;00m ioargs\u001b[38;5;241m.\u001b[39mencoding \u001b[38;5;129;01mand\u001b[39;00m \u001b[38;5;124m\"\u001b[39m\u001b[38;5;124mb\u001b[39m\u001b[38;5;124m\"\u001b[39m \u001b[38;5;129;01mnot\u001b[39;00m \u001b[38;5;129;01min\u001b[39;00m ioargs\u001b[38;5;241m.\u001b[39mmode:\n\u001b[0;32m    788\u001b[0m         \u001b[38;5;66;03m# Encoding\u001b[39;00m\n\u001b[1;32m--> 789\u001b[0m         handle \u001b[38;5;241m=\u001b[39m \u001b[38;5;28;43mopen\u001b[39;49m\u001b[43m(\u001b[49m\n\u001b[0;32m    790\u001b[0m \u001b[43m            \u001b[49m\u001b[43mhandle\u001b[49m\u001b[43m,\u001b[49m\n\u001b[0;32m    791\u001b[0m \u001b[43m            \u001b[49m\u001b[43mioargs\u001b[49m\u001b[38;5;241;43m.\u001b[39;49m\u001b[43mmode\u001b[49m\u001b[43m,\u001b[49m\n\u001b[0;32m    792\u001b[0m \u001b[43m            \u001b[49m\u001b[43mencoding\u001b[49m\u001b[38;5;241;43m=\u001b[39;49m\u001b[43mioargs\u001b[49m\u001b[38;5;241;43m.\u001b[39;49m\u001b[43mencoding\u001b[49m\u001b[43m,\u001b[49m\n\u001b[0;32m    793\u001b[0m \u001b[43m            \u001b[49m\u001b[43merrors\u001b[49m\u001b[38;5;241;43m=\u001b[39;49m\u001b[43merrors\u001b[49m\u001b[43m,\u001b[49m\n\u001b[0;32m    794\u001b[0m \u001b[43m            \u001b[49m\u001b[43mnewline\u001b[49m\u001b[38;5;241;43m=\u001b[39;49m\u001b[38;5;124;43m\"\u001b[39;49m\u001b[38;5;124;43m\"\u001b[39;49m\u001b[43m,\u001b[49m\n\u001b[0;32m    795\u001b[0m \u001b[43m        \u001b[49m\u001b[43m)\u001b[49m\n\u001b[0;32m    796\u001b[0m     \u001b[38;5;28;01melse\u001b[39;00m:\n\u001b[0;32m    797\u001b[0m         \u001b[38;5;66;03m# Binary mode\u001b[39;00m\n\u001b[0;32m    798\u001b[0m         handle \u001b[38;5;241m=\u001b[39m \u001b[38;5;28mopen\u001b[39m(handle, ioargs\u001b[38;5;241m.\u001b[39mmode)\n",
      "\u001b[1;31mFileNotFoundError\u001b[0m: [Errno 2] No such file or directory: 'temp-original-data.csv'"
     ]
    }
   ],
   "source": [
    "originalDf = pd.read_csv(\"temp-original-data.csv\")"
   ]
  },
  {
   "cell_type": "code",
   "execution_count": 20,
   "id": "deef9fca",
   "metadata": {},
   "outputs": [],
   "source": [
    "originalDf = pd.read_csv(\"original-data-gender.csv\")"
   ]
  },
  {
   "cell_type": "code",
   "execution_count": 21,
   "id": "61714547",
   "metadata": {},
   "outputs": [
    {
     "data": {
      "text/plain": [
       "gender    0.056252\n",
       "dtype: float64"
      ]
     },
     "execution_count": 21,
     "metadata": {},
     "output_type": "execute_result"
    }
   ],
   "source": [
    "originalDf.mean()"
   ]
  },
  {
   "cell_type": "code",
   "execution_count": 22,
   "id": "8d9decb0",
   "metadata": {},
   "outputs": [
    {
     "data": {
      "text/plain": [
       "gender    0.0\n",
       "dtype: float64"
      ]
     },
     "execution_count": 22,
     "metadata": {},
     "output_type": "execute_result"
    }
   ],
   "source": [
    "originalDf.median()"
   ]
  },
  {
   "cell_type": "code",
   "execution_count": 23,
   "id": "5d58c7d8",
   "metadata": {},
   "outputs": [
    {
     "data": {
      "text/html": [
       "<div>\n",
       "<style scoped>\n",
       "    .dataframe tbody tr th:only-of-type {\n",
       "        vertical-align: middle;\n",
       "    }\n",
       "\n",
       "    .dataframe tbody tr th {\n",
       "        vertical-align: top;\n",
       "    }\n",
       "\n",
       "    .dataframe thead th {\n",
       "        text-align: right;\n",
       "    }\n",
       "</style>\n",
       "<table border=\"1\" class=\"dataframe\">\n",
       "  <thead>\n",
       "    <tr style=\"text-align: right;\">\n",
       "      <th></th>\n",
       "      <th>gender</th>\n",
       "    </tr>\n",
       "  </thead>\n",
       "  <tbody>\n",
       "    <tr>\n",
       "      <th>0</th>\n",
       "      <td>0</td>\n",
       "    </tr>\n",
       "  </tbody>\n",
       "</table>\n",
       "</div>"
      ],
      "text/plain": [
       "   gender\n",
       "0       0"
      ]
     },
     "execution_count": 23,
     "metadata": {},
     "output_type": "execute_result"
    }
   ],
   "source": [
    "originalDf.mode()"
   ]
  },
  {
   "cell_type": "code",
   "execution_count": null,
   "id": "7f494294",
   "metadata": {},
   "outputs": [],
   "source": []
  }
 ],
 "metadata": {
  "kernelspec": {
   "display_name": "Python 3",
   "language": "python",
   "name": "python3"
  },
  "language_info": {
   "codemirror_mode": {
    "name": "ipython",
    "version": 3
   },
   "file_extension": ".py",
   "mimetype": "text/x-python",
   "name": "python",
   "nbconvert_exporter": "python",
   "pygments_lexer": "ipython3",
   "version": "3.10.5"
  }
 },
 "nbformat": 4,
 "nbformat_minor": 5
}
