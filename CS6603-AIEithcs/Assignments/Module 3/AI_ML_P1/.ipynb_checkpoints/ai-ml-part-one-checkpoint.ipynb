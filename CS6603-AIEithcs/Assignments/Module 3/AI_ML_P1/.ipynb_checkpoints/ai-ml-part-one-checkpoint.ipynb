{
 "cells": [
  {
   "cell_type": "code",
   "execution_count": 1,
   "id": "7b7b842c",
   "metadata": {},
   "outputs": [],
   "source": [
    "#Import Python Libraries\n",
    "import nltk as nl\n",
    "import gensim as gen"
   ]
  },
  {
   "cell_type": "code",
   "execution_count": 1,
   "id": "25fc8a41",
   "metadata": {},
   "outputs": [],
   "source": [
    "#Import Python Libraries\n",
    "import numpy as np\n",
    "import scipy as sp\n",
    "import pandas as pd\n",
    "import matplotlib as mpl\n",
    "import seaborn as sns"
   ]
  },
  {
   "cell_type": "code",
   "execution_count": 2,
   "id": "f6887edb",
   "metadata": {},
   "outputs": [],
   "source": [
    "#Read csv file\n",
    "df = pd.read_csv(\"toxity_per_attribute_reduced.csv\")"
   ]
  },
  {
   "cell_type": "code",
   "execution_count": 3,
   "id": "143e2fa4",
   "metadata": {},
   "outputs": [
    {
     "data": {
      "text/html": [
       "<div>\n",
       "<style scoped>\n",
       "    .dataframe tbody tr th:only-of-type {\n",
       "        vertical-align: middle;\n",
       "    }\n",
       "\n",
       "    .dataframe tbody tr th {\n",
       "        vertical-align: top;\n",
       "    }\n",
       "\n",
       "    .dataframe thead th {\n",
       "        text-align: right;\n",
       "    }\n",
       "</style>\n",
       "<table border=\"1\" class=\"dataframe\">\n",
       "  <thead>\n",
       "    <tr style=\"text-align: right;\">\n",
       "      <th></th>\n",
       "      <th>Wiki_ID</th>\n",
       "      <th>TOXICITY</th>\n",
       "      <th>transgender</th>\n",
       "      <th>trans</th>\n",
       "      <th>male</th>\n",
       "      <th>female</th>\n",
       "      <th>nonbinary</th>\n",
       "      <th>african</th>\n",
       "      <th>african american</th>\n",
       "      <th>black</th>\n",
       "      <th>...</th>\n",
       "      <th>young</th>\n",
       "      <th>younger</th>\n",
       "      <th>teenage</th>\n",
       "      <th>millenial</th>\n",
       "      <th>middle aged</th>\n",
       "      <th>elderly</th>\n",
       "      <th>blind</th>\n",
       "      <th>deaf</th>\n",
       "      <th>paralyzed</th>\n",
       "      <th>Unnamed: 43</th>\n",
       "    </tr>\n",
       "  </thead>\n",
       "  <tbody>\n",
       "    <tr>\n",
       "      <th>0</th>\n",
       "      <td>0</td>\n",
       "      <td>0.096492</td>\n",
       "      <td>False</td>\n",
       "      <td>False</td>\n",
       "      <td>False</td>\n",
       "      <td>False</td>\n",
       "      <td>False</td>\n",
       "      <td>False</td>\n",
       "      <td>False</td>\n",
       "      <td>False</td>\n",
       "      <td>...</td>\n",
       "      <td>False</td>\n",
       "      <td>False</td>\n",
       "      <td>False</td>\n",
       "      <td>False</td>\n",
       "      <td>False</td>\n",
       "      <td>False</td>\n",
       "      <td>False</td>\n",
       "      <td>False</td>\n",
       "      <td>False</td>\n",
       "      <td>False</td>\n",
       "    </tr>\n",
       "  </tbody>\n",
       "</table>\n",
       "<p>1 rows × 44 columns</p>\n",
       "</div>"
      ],
      "text/plain": [
       "   Wiki_ID  TOXICITY  transgender  trans   male  female  nonbinary  african  \\\n",
       "0        0  0.096492        False  False  False   False      False    False   \n",
       "\n",
       "   african american  black  ...  young  younger  teenage  millenial  \\\n",
       "0             False  False  ...  False    False    False      False   \n",
       "\n",
       "   middle aged  elderly  blind   deaf  paralyzed  Unnamed: 43  \n",
       "0        False    False  False  False      False        False  \n",
       "\n",
       "[1 rows x 44 columns]"
      ]
     },
     "execution_count": 3,
     "metadata": {},
     "output_type": "execute_result"
    }
   ],
   "source": [
    "df.head(1)"
   ]
  },
  {
   "cell_type": "code",
   "execution_count": 4,
   "id": "943201b1",
   "metadata": {},
   "outputs": [],
   "source": [
    "sample = df.sample(31037)"
   ]
  },
  {
   "cell_type": "code",
   "execution_count": 5,
   "id": "634d513b",
   "metadata": {},
   "outputs": [],
   "source": [
    "sample.to_csv('toxicity-rand.csv')"
   ]
  },
  {
   "cell_type": "code",
   "execution_count": 1,
   "id": "5f5c4458",
   "metadata": {},
   "outputs": [],
   "source": [
    "#Import Python Libraries\n",
    "import numpy as np\n",
    "import scipy as sp\n",
    "import pandas as pd\n",
    "import matplotlib as mpl\n",
    "import seaborn as sns"
   ]
  },
  {
   "cell_type": "code",
   "execution_count": 2,
   "id": "a4f9b23d",
   "metadata": {},
   "outputs": [],
   "source": [
    "#Read csv file\n",
    "df = pd.read_csv(\"toxicity_csv/toxity_per_attribute_reduced.csv\")"
   ]
  },
  {
   "cell_type": "code",
   "execution_count": 3,
   "id": "61144268",
   "metadata": {},
   "outputs": [
    {
     "data": {
      "text/html": [
       "<div>\n",
       "<style scoped>\n",
       "    .dataframe tbody tr th:only-of-type {\n",
       "        vertical-align: middle;\n",
       "    }\n",
       "\n",
       "    .dataframe tbody tr th {\n",
       "        vertical-align: top;\n",
       "    }\n",
       "\n",
       "    .dataframe thead th {\n",
       "        text-align: right;\n",
       "    }\n",
       "</style>\n",
       "<table border=\"1\" class=\"dataframe\">\n",
       "  <thead>\n",
       "    <tr style=\"text-align: right;\">\n",
       "      <th></th>\n",
       "      <th>Wiki_ID</th>\n",
       "      <th>TOXICITY</th>\n",
       "      <th>transgender</th>\n",
       "      <th>trans</th>\n",
       "      <th>male</th>\n",
       "      <th>female</th>\n",
       "      <th>nonbinary</th>\n",
       "      <th>african</th>\n",
       "      <th>african american</th>\n",
       "      <th>black</th>\n",
       "      <th>...</th>\n",
       "      <th>young</th>\n",
       "      <th>younger</th>\n",
       "      <th>teenage</th>\n",
       "      <th>millenial</th>\n",
       "      <th>middle aged</th>\n",
       "      <th>elderly</th>\n",
       "      <th>blind</th>\n",
       "      <th>deaf</th>\n",
       "      <th>paralyzed</th>\n",
       "      <th>Unnamed: 43</th>\n",
       "    </tr>\n",
       "  </thead>\n",
       "  <tbody>\n",
       "    <tr>\n",
       "      <th>0</th>\n",
       "      <td>0</td>\n",
       "      <td>0.096492</td>\n",
       "      <td>False</td>\n",
       "      <td>False</td>\n",
       "      <td>False</td>\n",
       "      <td>False</td>\n",
       "      <td>False</td>\n",
       "      <td>False</td>\n",
       "      <td>False</td>\n",
       "      <td>False</td>\n",
       "      <td>...</td>\n",
       "      <td>False</td>\n",
       "      <td>False</td>\n",
       "      <td>False</td>\n",
       "      <td>False</td>\n",
       "      <td>False</td>\n",
       "      <td>False</td>\n",
       "      <td>False</td>\n",
       "      <td>False</td>\n",
       "      <td>False</td>\n",
       "      <td>False</td>\n",
       "    </tr>\n",
       "  </tbody>\n",
       "</table>\n",
       "<p>1 rows × 44 columns</p>\n",
       "</div>"
      ],
      "text/plain": [
       "   Wiki_ID  TOXICITY  transgender  trans   male  female  nonbinary  african  \\\n",
       "0        0  0.096492        False  False  False   False      False    False   \n",
       "\n",
       "   african american  black  ...  young  younger  teenage  millenial  \\\n",
       "0             False  False  ...  False    False    False      False   \n",
       "\n",
       "   middle aged  elderly  blind   deaf  paralyzed  Unnamed: 43  \n",
       "0        False    False  False  False      False        False  \n",
       "\n",
       "[1 rows x 44 columns]"
      ]
     },
     "execution_count": 3,
     "metadata": {},
     "output_type": "execute_result"
    }
   ],
   "source": [
    "df.head(1)"
   ]
  },
  {
   "cell_type": "code",
   "execution_count": 4,
   "id": "2e0e9a67",
   "metadata": {},
   "outputs": [],
   "source": [
    "sample = df.sample(6208)"
   ]
  },
  {
   "cell_type": "code",
   "execution_count": 5,
   "id": "9d7814c0",
   "metadata": {},
   "outputs": [],
   "source": [
    "sample.to_csv('toxicity-rand-10.csv')"
   ]
  },
  {
   "cell_type": "code",
   "execution_count": 6,
   "id": "70ae0b05",
   "metadata": {},
   "outputs": [],
   "source": [
    "sample60 = df.sample(37245)"
   ]
  },
  {
   "cell_type": "code",
   "execution_count": 7,
   "id": "a1ee2b43",
   "metadata": {},
   "outputs": [],
   "source": [
    "sample60.to_csv('toxicity-rand-60.csv')"
   ]
  },
  {
   "cell_type": "code",
   "execution_count": null,
   "id": "03d9d8c2",
   "metadata": {},
   "outputs": [],
   "source": [
    "#Read csv file\n",
    "df = pd.read_csv(\"toxicity_csv/toxity_per_attribute_reduced.csv\")"
   ]
  }
 ],
 "metadata": {
  "kernelspec": {
   "display_name": "Python 3",
   "language": "python",
   "name": "python3"
  },
  "language_info": {
   "codemirror_mode": {
    "name": "ipython",
    "version": 3
   },
   "file_extension": ".py",
   "mimetype": "text/x-python",
   "name": "python",
   "nbconvert_exporter": "python",
   "pygments_lexer": "ipython3",
   "version": "3.10.5"
  }
 },
 "nbformat": 4,
 "nbformat_minor": 5
}
