{
 "cells": [
  {
   "cell_type": "code",
   "execution_count": 1,
   "id": "7b7b842c",
   "metadata": {},
   "outputs": [],
   "source": [
    "#Import Python Libraries\n",
    "import nltk as nl\n",
    "import gensim as gen"
   ]
  },
  {
   "cell_type": "code",
   "execution_count": 1,
   "id": "25fc8a41",
   "metadata": {},
   "outputs": [],
   "source": [
    "#Import Python Libraries\n",
    "import numpy as np\n",
    "import scipy as sp\n",
    "import pandas as pd\n",
    "import matplotlib as mpl\n",
    "import seaborn as sns"
   ]
  },
  {
   "cell_type": "code",
   "execution_count": 2,
   "id": "f6887edb",
   "metadata": {},
   "outputs": [],
   "source": [
    "#Read csv file\n",
    "df = pd.read_csv(\"toxity_per_attribute_reduced.csv\")"
   ]
  },
  {
   "cell_type": "code",
   "execution_count": 3,
   "id": "143e2fa4",
   "metadata": {},
   "outputs": [
    {
     "data": {
      "text/html": [
       "<div>\n",
       "<style scoped>\n",
       "    .dataframe tbody tr th:only-of-type {\n",
       "        vertical-align: middle;\n",
       "    }\n",
       "\n",
       "    .dataframe tbody tr th {\n",
       "        vertical-align: top;\n",
       "    }\n",
       "\n",
       "    .dataframe thead th {\n",
       "        text-align: right;\n",
       "    }\n",
       "</style>\n",
       "<table border=\"1\" class=\"dataframe\">\n",
       "  <thead>\n",
       "    <tr style=\"text-align: right;\">\n",
       "      <th></th>\n",
       "      <th>Wiki_ID</th>\n",
       "      <th>TOXICITY</th>\n",
       "      <th>transgender</th>\n",
       "      <th>trans</th>\n",
       "      <th>male</th>\n",
       "      <th>female</th>\n",
       "      <th>nonbinary</th>\n",
       "      <th>african</th>\n",
       "      <th>african american</th>\n",
       "      <th>black</th>\n",
       "      <th>...</th>\n",
       "      <th>young</th>\n",
       "      <th>younger</th>\n",
       "      <th>teenage</th>\n",
       "      <th>millenial</th>\n",
       "      <th>middle aged</th>\n",
       "      <th>elderly</th>\n",
       "      <th>blind</th>\n",
       "      <th>deaf</th>\n",
       "      <th>paralyzed</th>\n",
       "      <th>Unnamed: 43</th>\n",
       "    </tr>\n",
       "  </thead>\n",
       "  <tbody>\n",
       "    <tr>\n",
       "      <th>0</th>\n",
       "      <td>0</td>\n",
       "      <td>0.096492</td>\n",
       "      <td>False</td>\n",
       "      <td>False</td>\n",
       "      <td>False</td>\n",
       "      <td>False</td>\n",
       "      <td>False</td>\n",
       "      <td>False</td>\n",
       "      <td>False</td>\n",
       "      <td>False</td>\n",
       "      <td>...</td>\n",
       "      <td>False</td>\n",
       "      <td>False</td>\n",
       "      <td>False</td>\n",
       "      <td>False</td>\n",
       "      <td>False</td>\n",
       "      <td>False</td>\n",
       "      <td>False</td>\n",
       "      <td>False</td>\n",
       "      <td>False</td>\n",
       "      <td>False</td>\n",
       "    </tr>\n",
       "  </tbody>\n",
       "</table>\n",
       "<p>1 rows × 44 columns</p>\n",
       "</div>"
      ],
      "text/plain": [
       "   Wiki_ID  TOXICITY  transgender  trans   male  female  nonbinary  african  \\\n",
       "0        0  0.096492        False  False  False   False      False    False   \n",
       "\n",
       "   african american  black  ...  young  younger  teenage  millenial  \\\n",
       "0             False  False  ...  False    False    False      False   \n",
       "\n",
       "   middle aged  elderly  blind   deaf  paralyzed  Unnamed: 43  \n",
       "0        False    False  False  False      False        False  \n",
       "\n",
       "[1 rows x 44 columns]"
      ]
     },
     "execution_count": 3,
     "metadata": {},
     "output_type": "execute_result"
    }
   ],
   "source": [
    "df.head(1)"
   ]
  },
  {
   "cell_type": "code",
   "execution_count": 4,
   "id": "943201b1",
   "metadata": {},
   "outputs": [],
   "source": [
    "sample = df.sample(31037)"
   ]
  },
  {
   "cell_type": "code",
   "execution_count": 5,
   "id": "634d513b",
   "metadata": {},
   "outputs": [],
   "source": [
    "sample.to_csv('toxicity-rand.csv')"
   ]
  },
  {
   "cell_type": "code",
   "execution_count": 1,
   "id": "5f5c4458",
   "metadata": {},
   "outputs": [],
   "source": [
    "#Import Python Libraries\n",
    "import numpy as np\n",
    "import scipy as sp\n",
    "import pandas as pd\n",
    "import matplotlib as mpl\n",
    "import seaborn as sns"
   ]
  },
  {
   "cell_type": "code",
   "execution_count": 2,
   "id": "87fea4d7",
   "metadata": {},
   "outputs": [],
   "source": [
    "#Read csv file\n",
    "df = pd.read_csv(\"toxicity_csv/toxity_per_attribute_reduced.csv\")"
   ]
  },
  {
   "cell_type": "code",
   "execution_count": 3,
   "id": "919af5d2",
   "metadata": {},
   "outputs": [
    {
     "data": {
      "text/html": [
       "<div>\n",
       "<style scoped>\n",
       "    .dataframe tbody tr th:only-of-type {\n",
       "        vertical-align: middle;\n",
       "    }\n",
       "\n",
       "    .dataframe tbody tr th {\n",
       "        vertical-align: top;\n",
       "    }\n",
       "\n",
       "    .dataframe thead th {\n",
       "        text-align: right;\n",
       "    }\n",
       "</style>\n",
       "<table border=\"1\" class=\"dataframe\">\n",
       "  <thead>\n",
       "    <tr style=\"text-align: right;\">\n",
       "      <th></th>\n",
       "      <th>Wiki_ID</th>\n",
       "      <th>TOXICITY</th>\n",
       "      <th>transgender</th>\n",
       "      <th>trans</th>\n",
       "      <th>male</th>\n",
       "      <th>female</th>\n",
       "      <th>nonbinary</th>\n",
       "      <th>african</th>\n",
       "      <th>african american</th>\n",
       "      <th>black</th>\n",
       "      <th>...</th>\n",
       "      <th>young</th>\n",
       "      <th>younger</th>\n",
       "      <th>teenage</th>\n",
       "      <th>millenial</th>\n",
       "      <th>middle aged</th>\n",
       "      <th>elderly</th>\n",
       "      <th>blind</th>\n",
       "      <th>deaf</th>\n",
       "      <th>paralyzed</th>\n",
       "      <th>Unnamed: 43</th>\n",
       "    </tr>\n",
       "  </thead>\n",
       "  <tbody>\n",
       "    <tr>\n",
       "      <th>0</th>\n",
       "      <td>0</td>\n",
       "      <td>0.096492</td>\n",
       "      <td>False</td>\n",
       "      <td>False</td>\n",
       "      <td>False</td>\n",
       "      <td>False</td>\n",
       "      <td>False</td>\n",
       "      <td>False</td>\n",
       "      <td>False</td>\n",
       "      <td>False</td>\n",
       "      <td>...</td>\n",
       "      <td>False</td>\n",
       "      <td>False</td>\n",
       "      <td>False</td>\n",
       "      <td>False</td>\n",
       "      <td>False</td>\n",
       "      <td>False</td>\n",
       "      <td>False</td>\n",
       "      <td>False</td>\n",
       "      <td>False</td>\n",
       "      <td>False</td>\n",
       "    </tr>\n",
       "  </tbody>\n",
       "</table>\n",
       "<p>1 rows × 44 columns</p>\n",
       "</div>"
      ],
      "text/plain": [
       "   Wiki_ID  TOXICITY  transgender  trans   male  female  nonbinary  african  \\\n",
       "0        0  0.096492        False  False  False   False      False    False   \n",
       "\n",
       "   african american  black  ...  young  younger  teenage  millenial  \\\n",
       "0             False  False  ...  False    False    False      False   \n",
       "\n",
       "   middle aged  elderly  blind   deaf  paralyzed  Unnamed: 43  \n",
       "0        False    False  False  False      False        False  \n",
       "\n",
       "[1 rows x 44 columns]"
      ]
     },
     "execution_count": 3,
     "metadata": {},
     "output_type": "execute_result"
    }
   ],
   "source": [
    "df.head(1)"
   ]
  },
  {
   "cell_type": "code",
   "execution_count": 4,
   "id": "87015e76",
   "metadata": {},
   "outputs": [],
   "source": [
    "sample = df.sample(6208)"
   ]
  },
  {
   "cell_type": "code",
   "execution_count": 5,
   "id": "c4e8816d",
   "metadata": {},
   "outputs": [],
   "source": [
    "sample.to_csv('toxicity-rand-10.csv')"
   ]
  },
  {
   "cell_type": "code",
   "execution_count": 6,
   "id": "1b12ed81",
   "metadata": {},
   "outputs": [],
   "source": [
    "sample60 = df.sample(37245)"
   ]
  },
  {
   "cell_type": "code",
   "execution_count": 7,
   "id": "07f463f4",
   "metadata": {},
   "outputs": [],
   "source": [
    "sample60.to_csv('toxicity-rand-60.csv')"
   ]
  },
  {
   "cell_type": "code",
   "execution_count": 8,
   "id": "54a5f41e",
   "metadata": {},
   "outputs": [],
   "source": [
    "#Read csv file\n",
    "ds = pd.read_csv(\"disability-status-reduced.csv\")"
   ]
  },
  {
   "cell_type": "code",
   "execution_count": 9,
   "id": "727f00b3",
   "metadata": {},
   "outputs": [
    {
     "data": {
      "text/html": [
       "<div>\n",
       "<style scoped>\n",
       "    .dataframe tbody tr th:only-of-type {\n",
       "        vertical-align: middle;\n",
       "    }\n",
       "\n",
       "    .dataframe tbody tr th {\n",
       "        vertical-align: top;\n",
       "    }\n",
       "\n",
       "    .dataframe thead th {\n",
       "        text-align: right;\n",
       "    }\n",
       "</style>\n",
       "<table border=\"1\" class=\"dataframe\">\n",
       "  <thead>\n",
       "    <tr style=\"text-align: right;\">\n",
       "      <th></th>\n",
       "      <th>TOXICITY</th>\n",
       "      <th>paralyzed</th>\n",
       "      <th>blind</th>\n",
       "      <th>deaf</th>\n",
       "    </tr>\n",
       "  </thead>\n",
       "  <tbody>\n",
       "    <tr>\n",
       "      <th>0</th>\n",
       "      <td>0.307553</td>\n",
       "      <td>1.0</td>\n",
       "      <td>NaN</td>\n",
       "      <td>NaN</td>\n",
       "    </tr>\n",
       "  </tbody>\n",
       "</table>\n",
       "</div>"
      ],
      "text/plain": [
       "   TOXICITY  paralyzed  blind  deaf\n",
       "0  0.307553        1.0    NaN   NaN"
      ]
     },
     "execution_count": 9,
     "metadata": {},
     "output_type": "execute_result"
    }
   ],
   "source": [
    "ds.head(1)"
   ]
  },
  {
   "cell_type": "code",
   "execution_count": 10,
   "id": "52897648",
   "metadata": {},
   "outputs": [],
   "source": [
    "dsSample10 = df.sample(454)"
   ]
  },
  {
   "cell_type": "code",
   "execution_count": 11,
   "id": "f6084ed0",
   "metadata": {},
   "outputs": [],
   "source": [
    "dsSample10.to_csv('ds-sample-10.csv')"
   ]
  },
  {
   "cell_type": "code",
   "execution_count": 12,
   "id": "e4171aeb",
   "metadata": {},
   "outputs": [],
   "source": [
    "dsSample60 = df.sample(2726)"
   ]
  },
  {
   "cell_type": "code",
   "execution_count": 13,
   "id": "7ecab96c",
   "metadata": {},
   "outputs": [],
   "source": [
    "dsSample60.to_csv('ds-sample-60.csv')"
   ]
  },
  {
   "cell_type": "code",
   "execution_count": 14,
   "id": "19ac6834",
   "metadata": {},
   "outputs": [],
   "source": [
    "dsSample10 = ds.sample(454)"
   ]
  },
  {
   "cell_type": "code",
   "execution_count": 15,
   "id": "3b9c1bd9",
   "metadata": {},
   "outputs": [],
   "source": [
    "dsSample10.to_csv('ds-sample-10.csv')"
   ]
  },
  {
   "cell_type": "code",
   "execution_count": 16,
   "id": "a97f7655",
   "metadata": {},
   "outputs": [],
   "source": [
    "dsSample60 = ds.sample(2726)"
   ]
  },
  {
   "cell_type": "code",
   "execution_count": 17,
   "id": "fcb20835",
   "metadata": {},
   "outputs": [],
   "source": [
    "dsSample60.to_csv('ds-sample-60.csv')"
   ]
  },
  {
   "cell_type": "code",
   "execution_count": 18,
   "id": "6f575bd8",
   "metadata": {},
   "outputs": [],
   "source": [
    "#Read csv file\n",
    "ds = pd.read_csv(\"ds-paralyzed.csv\")"
   ]
  },
  {
   "cell_type": "code",
   "execution_count": 19,
   "id": "04dac8fe",
   "metadata": {},
   "outputs": [
    {
     "data": {
      "text/html": [
       "<div>\n",
       "<style scoped>\n",
       "    .dataframe tbody tr th:only-of-type {\n",
       "        vertical-align: middle;\n",
       "    }\n",
       "\n",
       "    .dataframe tbody tr th {\n",
       "        vertical-align: top;\n",
       "    }\n",
       "\n",
       "    .dataframe thead th {\n",
       "        text-align: right;\n",
       "    }\n",
       "</style>\n",
       "<table border=\"1\" class=\"dataframe\">\n",
       "  <thead>\n",
       "    <tr style=\"text-align: right;\">\n",
       "      <th></th>\n",
       "      <th>TOXICITY</th>\n",
       "      <th>paralyzed</th>\n",
       "    </tr>\n",
       "  </thead>\n",
       "  <tbody>\n",
       "    <tr>\n",
       "      <th>0</th>\n",
       "      <td>0.307553</td>\n",
       "      <td>1</td>\n",
       "    </tr>\n",
       "  </tbody>\n",
       "</table>\n",
       "</div>"
      ],
      "text/plain": [
       "   TOXICITY  paralyzed\n",
       "0  0.307553          1"
      ]
     },
     "execution_count": 19,
     "metadata": {},
     "output_type": "execute_result"
    }
   ],
   "source": [
    "ds.head(1)"
   ]
  },
  {
   "cell_type": "code",
   "execution_count": 20,
   "id": "e611c942",
   "metadata": {},
   "outputs": [],
   "source": [
    "dsSample10 = ds.sample(151)"
   ]
  },
  {
   "cell_type": "code",
   "execution_count": 21,
   "id": "6dd68911",
   "metadata": {},
   "outputs": [],
   "source": [
    "dsSample10.to_csv('ds-paralyzed-sample-10.csv')"
   ]
  },
  {
   "cell_type": "code",
   "execution_count": 22,
   "id": "0abbe22d",
   "metadata": {},
   "outputs": [],
   "source": [
    "dsSample60 = ds.sample(908)"
   ]
  },
  {
   "cell_type": "code",
   "execution_count": 23,
   "id": "530dd8b1",
   "metadata": {},
   "outputs": [],
   "source": [
    "dsSample60 = ds.sample(908)"
   ]
  },
  {
   "cell_type": "code",
   "execution_count": 24,
   "id": "7257d4f0",
   "metadata": {},
   "outputs": [],
   "source": [
    "#Read csv file\n",
    "ds = pd.read_csv(\"ds-blind.csv\")"
   ]
  },
  {
   "cell_type": "code",
   "execution_count": 25,
   "id": "43afff27",
   "metadata": {},
   "outputs": [
    {
     "data": {
      "text/html": [
       "<div>\n",
       "<style scoped>\n",
       "    .dataframe tbody tr th:only-of-type {\n",
       "        vertical-align: middle;\n",
       "    }\n",
       "\n",
       "    .dataframe tbody tr th {\n",
       "        vertical-align: top;\n",
       "    }\n",
       "\n",
       "    .dataframe thead th {\n",
       "        text-align: right;\n",
       "    }\n",
       "</style>\n",
       "<table border=\"1\" class=\"dataframe\">\n",
       "  <thead>\n",
       "    <tr style=\"text-align: right;\">\n",
       "      <th></th>\n",
       "      <th>TOXICITY</th>\n",
       "      <th>blind</th>\n",
       "    </tr>\n",
       "  </thead>\n",
       "  <tbody>\n",
       "    <tr>\n",
       "      <th>0</th>\n",
       "      <td>0.523489</td>\n",
       "      <td>2</td>\n",
       "    </tr>\n",
       "  </tbody>\n",
       "</table>\n",
       "</div>"
      ],
      "text/plain": [
       "   TOXICITY  blind\n",
       "0  0.523489      2"
      ]
     },
     "execution_count": 25,
     "metadata": {},
     "output_type": "execute_result"
    }
   ],
   "source": [
    "ds.head(1)"
   ]
  },
  {
   "cell_type": "code",
   "execution_count": 26,
   "id": "bfe7a749",
   "metadata": {},
   "outputs": [],
   "source": [
    "dsSample10 = ds.sample(151)"
   ]
  },
  {
   "cell_type": "code",
   "execution_count": 27,
   "id": "e3b4d0d0",
   "metadata": {},
   "outputs": [],
   "source": [
    "dsSample10.to_csv('ds-blind-sample-10.csv')"
   ]
  },
  {
   "cell_type": "code",
   "execution_count": 28,
   "id": "b2e508b1",
   "metadata": {},
   "outputs": [],
   "source": [
    "dsSample60 = ds.sample(908)"
   ]
  },
  {
   "cell_type": "code",
   "execution_count": 29,
   "id": "ebdd3e02",
   "metadata": {},
   "outputs": [],
   "source": [
    "dsSample60.to_csv('ds-blind-sample-60.csv')"
   ]
  },
  {
   "cell_type": "code",
   "execution_count": 30,
   "id": "413caff5",
   "metadata": {},
   "outputs": [],
   "source": [
    "#Read csv file\n",
    "ds = pd.read_csv(\"ds-deaf.csv\")"
   ]
  },
  {
   "cell_type": "code",
   "execution_count": 31,
   "id": "1e7a60cc",
   "metadata": {},
   "outputs": [
    {
     "data": {
      "text/html": [
       "<div>\n",
       "<style scoped>\n",
       "    .dataframe tbody tr th:only-of-type {\n",
       "        vertical-align: middle;\n",
       "    }\n",
       "\n",
       "    .dataframe tbody tr th {\n",
       "        vertical-align: top;\n",
       "    }\n",
       "\n",
       "    .dataframe thead th {\n",
       "        text-align: right;\n",
       "    }\n",
       "</style>\n",
       "<table border=\"1\" class=\"dataframe\">\n",
       "  <thead>\n",
       "    <tr style=\"text-align: right;\">\n",
       "      <th></th>\n",
       "      <th>TOXICITY</th>\n",
       "      <th>deaf</th>\n",
       "    </tr>\n",
       "  </thead>\n",
       "  <tbody>\n",
       "    <tr>\n",
       "      <th>0</th>\n",
       "      <td>0.491392</td>\n",
       "      <td>3</td>\n",
       "    </tr>\n",
       "  </tbody>\n",
       "</table>\n",
       "</div>"
      ],
      "text/plain": [
       "   TOXICITY  deaf\n",
       "0  0.491392     3"
      ]
     },
     "execution_count": 31,
     "metadata": {},
     "output_type": "execute_result"
    }
   ],
   "source": [
    "ds.head(1)"
   ]
  },
  {
   "cell_type": "code",
   "execution_count": 32,
   "id": "88ecc187",
   "metadata": {},
   "outputs": [],
   "source": [
    "dsSample10 = ds.sample(151)"
   ]
  },
  {
   "cell_type": "code",
   "execution_count": 33,
   "id": "44fa2970",
   "metadata": {},
   "outputs": [],
   "source": [
    "dsSample10.to_csv('ds-blind-sample-10.csv')"
   ]
  },
  {
   "cell_type": "code",
   "execution_count": 34,
   "id": "1a2a45a9",
   "metadata": {},
   "outputs": [],
   "source": [
    "dsSample10.to_csv('ds-deaf-sample-10.csv')"
   ]
  },
  {
   "cell_type": "code",
   "execution_count": 35,
   "id": "d9d6d0fb",
   "metadata": {},
   "outputs": [],
   "source": [
    "dsSample60 = ds.sample(908)"
   ]
  },
  {
   "cell_type": "code",
   "execution_count": 36,
   "id": "135f62b9",
   "metadata": {},
   "outputs": [],
   "source": [
    "dsSample60.to_csv('ds-deaf-sample-60.csv')"
   ]
  },
  {
   "cell_type": "code",
   "execution_count": null,
   "id": "5f93253e",
   "metadata": {},
   "outputs": [],
   "source": []
  }
 ],
 "metadata": {
  "kernelspec": {
   "display_name": "Python 3",
   "language": "python",
   "name": "python3"
  },
  "language_info": {
   "codemirror_mode": {
    "name": "ipython",
    "version": 3
   },
   "file_extension": ".py",
   "mimetype": "text/x-python",
   "name": "python",
   "nbconvert_exporter": "python",
   "pygments_lexer": "ipython3",
   "version": "3.10.5"
  }
 },
 "nbformat": 4,
 "nbformat_minor": 5
}
