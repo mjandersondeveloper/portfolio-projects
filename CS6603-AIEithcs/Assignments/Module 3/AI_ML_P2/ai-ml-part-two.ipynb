{
 "cells": [
  {
   "cell_type": "code",
   "execution_count": 1,
   "id": "22992097",
   "metadata": {},
   "outputs": [],
   "source": [
    "#Import Python Libraries\n",
    "import nltk as nl\n",
    "import gensim as gen"
   ]
  },
  {
   "cell_type": "code",
   "execution_count": 2,
   "id": "75bcdced",
   "metadata": {},
   "outputs": [],
   "source": [
    "from gensim.models import Word2Vec\n",
    "import gensim.models"
   ]
  },
  {
   "cell_type": "code",
   "execution_count": 5,
   "id": "6aba3d21",
   "metadata": {},
   "outputs": [],
   "source": [
    "newmodel = gensim.models.KeyedVectors.load_word2vec_format('reducedvector.bin', binary=True)"
   ]
  },
  {
   "cell_type": "code",
   "execution_count": 6,
   "id": "abd54d35",
   "metadata": {},
   "outputs": [
    {
     "data": {
      "text/plain": [
       "[('woman', 0.5876938104629517),\n",
       " ('girl', 0.5229198932647705),\n",
       " ('young', 0.49715912342071533),\n",
       " ('immortal', 0.4890766441822052),\n",
       " ('spider', 0.47930291295051575)]"
      ]
     },
     "execution_count": 6,
     "metadata": {},
     "output_type": "execute_result"
    }
   ],
   "source": [
    "newmodel.most_similar('man', topn=5)"
   ]
  },
  {
   "cell_type": "code",
   "execution_count": 7,
   "id": "d6209746",
   "metadata": {},
   "outputs": [
    {
     "data": {
      "text/plain": [
       "0.5876938"
      ]
     },
     "execution_count": 7,
     "metadata": {},
     "output_type": "execute_result"
    }
   ],
   "source": [
    "newmodel.similarity('man', 'wife')"
   ]
  },
  {
   "cell_type": "code",
   "execution_count": 8,
   "id": "f022760f",
   "metadata": {},
   "outputs": [
    {
     "data": {
      "text/plain": [
       "[('queen', 0.5532454252243042)]"
      ]
     },
     "execution_count": 8,
     "metadata": {},
     "output_type": "execute_result"
    }
   ],
   "source": [
    "newmodel.most_similar(positive=['king', 'woman'], negative=['man'], topn=1)"
   ]
  },
  {
   "cell_type": "code",
   "execution_count": 43,
   "id": "5b361214",
   "metadata": {},
   "outputs": [
    {
     "data": {
      "text/plain": [
       "0.08462686"
      ]
     },
     "execution_count": 43,
     "metadata": {},
     "output_type": "execute_result"
    }
   ],
   "source": [
    "newmodel.similarity('woman', 'president')"
   ]
  },
  {
   "cell_type": "code",
   "execution_count": 281,
   "id": "cc0100da",
   "metadata": {
    "scrolled": false
   },
   "outputs": [
    {
     "data": {
      "text/plain": [
       "0.004801147"
      ]
     },
     "execution_count": 281,
     "metadata": {},
     "output_type": "execute_result"
    }
   ],
   "source": [
    "newmodel.similarity('wittgenstein', 'black')"
   ]
  },
  {
   "cell_type": "code",
   "execution_count": 282,
   "id": "4756670e",
   "metadata": {},
   "outputs": [
    {
     "data": {
      "text/plain": [
       "-0.014892161"
      ]
     },
     "execution_count": 282,
     "metadata": {},
     "output_type": "execute_result"
    }
   ],
   "source": [
    "newmodel.similarity('wittgenstein', 'white')"
   ]
  },
  {
   "cell_type": "code",
   "execution_count": 1,
   "id": "65bc8c9b",
   "metadata": {},
   "outputs": [],
   "source": [
    "#Import Python Libraries\n",
    "import nltk as nl\n",
    "import gensim as gen\n",
    "from gensim.models import Word2Vec\n",
    "import gensim.models"
   ]
  },
  {
   "cell_type": "code",
   "execution_count": 2,
   "id": "6ff8803e",
   "metadata": {},
   "outputs": [],
   "source": [
    "newmodel = gensim.models.KeyedVectors.load_word2vec_format('reducedvector.bin', binary=True)"
   ]
  },
  {
   "cell_type": "code",
   "execution_count": 3,
   "id": "37f3855e",
   "metadata": {},
   "outputs": [
    {
     "data": {
      "text/plain": [
       "[('woman', 0.5876938104629517),\n",
       " ('girl', 0.5229198932647705),\n",
       " ('young', 0.49715912342071533),\n",
       " ('immortal', 0.4890766441822052),\n",
       " ('spider', 0.47930291295051575)]"
      ]
     },
     "execution_count": 3,
     "metadata": {},
     "output_type": "execute_result"
    }
   ],
   "source": [
    "newmodel.most_similar('man', topn=5)"
   ]
  },
  {
   "cell_type": "code",
   "execution_count": 19,
   "id": "eccfc2a1",
   "metadata": {},
   "outputs": [
    {
     "data": {
      "text/plain": [
       "0.19527604"
      ]
     },
     "execution_count": 19,
     "metadata": {},
     "output_type": "execute_result"
    }
   ],
   "source": [
    "newmodel.similarity('sickness', 'health')"
   ]
  },
  {
   "cell_type": "code",
   "execution_count": 38,
   "id": "8800a9e8",
   "metadata": {},
   "outputs": [
    {
     "data": {
      "text/plain": [
       "[('impious', 0.49606096744537354)]"
      ]
     },
     "execution_count": 38,
     "metadata": {},
     "output_type": "execute_result"
    }
   ],
   "source": [
    "newmodel.most_similar(positive=['wealth', 'sickness'], negative=['poverty'], topn=1)"
   ]
  },
  {
   "cell_type": "code",
   "execution_count": 39,
   "id": "e79a844c",
   "metadata": {},
   "outputs": [],
   "source": [
    "import numpy as num"
   ]
  },
  {
   "cell_type": "code",
   "execution_count": 40,
   "id": "b74e9502",
   "metadata": {},
   "outputs": [],
   "source": [
    "a1 = [0.30267337, 0.34426278, 0.27777424, 0.19263238, 0.41922888, 0.5685571, 0.5397003, 0.44885093, 0.5326567, 0.01186634, 0.28415978, 0.4439698, 0.5089051, 0.1706722, 0.19527604]"
   ]
  },
  {
   "cell_type": "code",
   "execution_count": 41,
   "id": "d7b440e9",
   "metadata": {},
   "outputs": [],
   "source": [
    "a2 = [0.518645823001861, 0.428088963031768, 0.544442594051361, 0.428752660751342, 0.60446810722351, 0.553245425224304, 0.450003921985626, 0.440381795167923, 0.4828981757164, 0.576350629329681, 0.423166453838348, 0.547864317893981, 0.665450751781463, 0.426470279693603, 0.496060967445373]"
   ]
  },
  {
   "cell_type": "code",
   "execution_count": 42,
   "id": "50c00b7e",
   "metadata": {},
   "outputs": [
    {
     "data": {
      "text/plain": [
       "array([[1.        , 0.18518559],\n",
       "       [0.18518559, 1.        ]])"
      ]
     },
     "execution_count": 42,
     "metadata": {},
     "output_type": "execute_result"
    }
   ],
   "source": [
    "num.corrcoef(a1,a2)"
   ]
  },
  {
   "cell_type": "code",
   "execution_count": 43,
   "id": "a5daf9c0",
   "metadata": {},
   "outputs": [],
   "source": [
    "import os"
   ]
  },
  {
   "cell_type": "code",
   "execution_count": 44,
   "id": "6429ed02",
   "metadata": {},
   "outputs": [],
   "source": [
    "for (root, dirs, file) in os.walk('crop_path1'):\n",
    "    for f in file:\n",
    "        print(f)"
   ]
  },
  {
   "cell_type": "code",
   "execution_count": null,
   "id": "2169a64f",
   "metadata": {},
   "outputs": [],
   "source": []
  }
 ],
 "metadata": {
  "kernelspec": {
   "display_name": "Python 3",
   "language": "python",
   "name": "python3"
  },
  "language_info": {
   "codemirror_mode": {
    "name": "ipython",
    "version": 3
   },
   "file_extension": ".py",
   "mimetype": "text/x-python",
   "name": "python",
   "nbconvert_exporter": "python",
   "pygments_lexer": "ipython3",
   "version": "3.10.5"
  }
 },
 "nbformat": 4,
 "nbformat_minor": 5
}
